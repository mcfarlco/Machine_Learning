{
 "cells": [
  {
   "cell_type": "code",
   "execution_count": 1,
   "metadata": {},
   "outputs": [
    {
     "name": "stderr",
     "output_type": "stream",
     "text": [
      "'ls' is not recognized as an internal or external command,\n",
      "operable program or batch file.\n"
     ]
    }
   ],
   "source": [
    "!ls "
   ]
  },
  {
   "cell_type": "code",
   "execution_count": 2,
   "metadata": {},
   "outputs": [
    {
     "name": "stderr",
     "output_type": "stream",
     "text": [
      "'cat' is not recognized as an internal or external command,\n",
      "operable program or batch file.\n"
     ]
    }
   ],
   "source": [
    "!cat income.train.txt.5k | cut -f 10 -d ',' | sort | uniq -c"
   ]
  },
  {
   "cell_type": "code",
   "execution_count": 3,
   "metadata": {},
   "outputs": [
    {
     "data": {
      "text/plain": [
       "0.2502"
      ]
     },
     "execution_count": 3,
     "metadata": {},
     "output_type": "execute_result"
    }
   ],
   "source": [
    "1251 / (1251 + 3749)"
   ]
  },
  {
   "cell_type": "code",
   "execution_count": 4,
   "metadata": {
    "scrolled": true
   },
   "outputs": [
    {
     "name": "stderr",
     "output_type": "stream",
     "text": [
      "'cat' is not recognized as an internal or external command,\n",
      "operable program or batch file.\n"
     ]
    }
   ],
   "source": [
    "!cat income.dev.txt | cut -f 10 -d ',' | sort | uniq -c"
   ]
  },
  {
   "cell_type": "code",
   "execution_count": 5,
   "metadata": {},
   "outputs": [
    {
     "data": {
      "text/plain": [
       "0.236"
      ]
     },
     "execution_count": 5,
     "metadata": {},
     "output_type": "execute_result"
    }
   ],
   "source": [
    "236 / (236 + 764)"
   ]
  },
  {
   "cell_type": "code",
   "execution_count": 6,
   "metadata": {},
   "outputs": [
    {
     "name": "stderr",
     "output_type": "stream",
     "text": [
      "'cat' is not recognized as an internal or external command,\n",
      "operable program or batch file.\n"
     ]
    }
   ],
   "source": [
    "!cat income.train.txt.5k | cut -f 1 -d ',' | sort -nk1| head -1"
   ]
  },
  {
   "cell_type": "code",
   "execution_count": 7,
   "metadata": {},
   "outputs": [
    {
     "name": "stderr",
     "output_type": "stream",
     "text": [
      "'cat' is not recognized as an internal or external command,\n",
      "operable program or batch file.\n"
     ]
    }
   ],
   "source": [
    "!cat income.train.txt.5k | cut -f 1 -d ',' | sort -nk1| tail -1"
   ]
  },
  {
   "cell_type": "code",
   "execution_count": 8,
   "metadata": {},
   "outputs": [
    {
     "name": "stderr",
     "output_type": "stream",
     "text": [
      "'cat' is not recognized as an internal or external command,\n",
      "operable program or batch file.\n"
     ]
    }
   ],
   "source": [
    "!cat income.train.txt.5k | cut -f 8 -d ',' | sort -nk1| head -1"
   ]
  },
  {
   "cell_type": "code",
   "execution_count": 9,
   "metadata": {},
   "outputs": [
    {
     "name": "stderr",
     "output_type": "stream",
     "text": [
      "'cat' is not recognized as an internal or external command,\n",
      "operable program or batch file.\n"
     ]
    }
   ],
   "source": [
    "!cat income.train.txt.5k | cut -f 8 -d ',' | sort -nk1| tail -1"
   ]
  },
  {
   "cell_type": "code",
   "execution_count": 10,
   "metadata": {
    "scrolled": true
   },
   "outputs": [
    {
     "name": "stderr",
     "output_type": "stream",
     "text": [
      "'cat' is not recognized as an internal or external command,\n",
      "operable program or batch file.\n"
     ]
    }
   ],
   "source": [
    "!cat income.train.txt.5k | cut -f 2 -d ',' | sort | uniq | wc -l"
   ]
  },
  {
   "cell_type": "code",
   "execution_count": 11,
   "metadata": {},
   "outputs": [
    {
     "name": "stderr",
     "output_type": "stream",
     "text": [
      "'cat' is not recognized as an internal or external command,\n",
      "operable program or batch file.\n"
     ]
    }
   ],
   "source": [
    "!cat income.train.txt.5k | cut -f 3 -d ',' | sort | uniq | wc -l"
   ]
  },
  {
   "cell_type": "code",
   "execution_count": 12,
   "metadata": {},
   "outputs": [
    {
     "name": "stderr",
     "output_type": "stream",
     "text": [
      "'cat' is not recognized as an internal or external command,\n",
      "operable program or batch file.\n"
     ]
    }
   ],
   "source": [
    "!cat income.train.txt.5k | cut -f 4 -d ',' | sort | uniq | wc -l"
   ]
  },
  {
   "cell_type": "code",
   "execution_count": 13,
   "metadata": {},
   "outputs": [
    {
     "name": "stderr",
     "output_type": "stream",
     "text": [
      "'cat' is not recognized as an internal or external command,\n",
      "operable program or batch file.\n"
     ]
    }
   ],
   "source": [
    "!cat income.train.txt.5k | cut -f 5 -d ',' | sort | uniq | wc -l"
   ]
  },
  {
   "cell_type": "code",
   "execution_count": 14,
   "metadata": {},
   "outputs": [
    {
     "name": "stderr",
     "output_type": "stream",
     "text": [
      "'cat' is not recognized as an internal or external command,\n",
      "operable program or batch file.\n"
     ]
    }
   ],
   "source": [
    "!cat income.train.txt.5k | cut -f 6 -d ',' | sort | uniq | wc -l"
   ]
  },
  {
   "cell_type": "code",
   "execution_count": 15,
   "metadata": {},
   "outputs": [
    {
     "name": "stderr",
     "output_type": "stream",
     "text": [
      "'cat' is not recognized as an internal or external command,\n",
      "operable program or batch file.\n"
     ]
    }
   ],
   "source": [
    "!cat income.train.txt.5k | cut -f 7 -d ',' | sort | uniq | wc -l"
   ]
  },
  {
   "cell_type": "code",
   "execution_count": 16,
   "metadata": {},
   "outputs": [
    {
     "name": "stderr",
     "output_type": "stream",
     "text": [
      "'cat' is not recognized as an internal or external command,\n",
      "operable program or batch file.\n"
     ]
    }
   ],
   "source": [
    "!cat income.train.txt.5k | cut -f 9 -d ',' | sort | uniq | wc -l"
   ]
  },
  {
   "cell_type": "code",
   "execution_count": 17,
   "metadata": {},
   "outputs": [
    {
     "name": "stderr",
     "output_type": "stream",
     "text": [
      "'cat' is not recognized as an internal or external command,\n",
      "operable program or batch file.\n"
     ]
    }
   ],
   "source": [
    "!cat income.train.txt.5k | cut -f 1 -d ',' | sort | uniq | wc -l"
   ]
  },
  {
   "cell_type": "code",
   "execution_count": 18,
   "metadata": {},
   "outputs": [
    {
     "name": "stderr",
     "output_type": "stream",
     "text": [
      "'cat' is not recognized as an internal or external command,\n",
      "operable program or batch file.\n"
     ]
    }
   ],
   "source": [
    "!cat income.train.txt.5k | cut -f 8 -d ',' | sort | uniq | wc -l"
   ]
  },
  {
   "cell_type": "code",
   "execution_count": 19,
   "metadata": {},
   "outputs": [],
   "source": [
    "import numpy as np"
   ]
  },
  {
   "cell_type": "code",
   "execution_count": 20,
   "metadata": {},
   "outputs": [],
   "source": [
    "import time"
   ]
  },
  {
   "cell_type": "code",
   "execution_count": 21,
   "metadata": {},
   "outputs": [],
   "source": [
    "def binarization(file, mapping=None):\n",
    "    # Intialize data array from file\n",
    "    data = map(lambda s: s.strip().split(\", \"), open(file).readlines())\n",
    "    \n",
    "    # Initialize variables\n",
    "    if mapping is None:\n",
    "        mapping = {}\n",
    "    categorical_data = []\n",
    "    numerical_data = [[],[]]\n",
    "    target_data = []\n",
    "    min_v = [999, 999]\n",
    "    max_v = [-1, -1]\n",
    "    \n",
    "    # Map categorical features and save numerical fields\n",
    "    for row in data:\n",
    "        new_row = []\n",
    "        for j, x in enumerate(row):\n",
    "            if j == 0:\n",
    "                numerical_data[1].append(x)\n",
    "                if int(x) < min_v[1]:\n",
    "                    min_v[1] = int(x)\n",
    "                if int(x) > max_v[1]:\n",
    "                    max_v[1] = int(x)\n",
    "                continue\n",
    "            if j == 7: \n",
    "                numerical_data[0].append(x)\n",
    "                if int(x) < min_v[0]:\n",
    "                    min_v[0] = int(x)\n",
    "                if int(x) > max_v[0]:\n",
    "                    max_v[0] = int(x)\n",
    "                continue\n",
    "            if j == 9:\n",
    "                target_data.append(x)\n",
    "                continue\n",
    "            feature = (j, x)\n",
    "            if feature not in mapping:\n",
    "                mapping[feature] = len(mapping)\n",
    "            new_row.append(mapping[feature])\n",
    "        categorical_data.append(new_row)\n",
    "        \n",
    "    # Binarize categorical data\n",
    "    print(str(len(categorical_data)) + ', ' + str(len(mapping)) + ', ' + str(len(numerical_data)))\n",
    "          \n",
    "    binary_data = np.zeros((len(categorical_data), len(mapping) + len(numerical_data)))\n",
    "          \n",
    "    for i, row in enumerate(categorical_data):\n",
    "        for x in row:\n",
    "            binary_data[i][x] = 1\n",
    "            \n",
    "    # Add weighted numerical data to binary data\n",
    "    for i, nv in enumerate(numerical_data):\n",
    "        div = (max_v[i] - min_v[i]) / 2\n",
    "        for j, value in enumerate(nv):\n",
    "            binary_data[j][binary_data[0].size - 1 - i] = int(value) / 50\n",
    "    \n",
    "    return [binary_data, mapping, target_data]\n",
    "    "
   ]
  },
  {
   "cell_type": "code",
   "execution_count": 22,
   "metadata": {},
   "outputs": [],
   "source": [
    "def euclidean(p1, p2):\n",
    "    return np.linalg.norm(p1-p2)"
   ]
  },
  {
   "cell_type": "code",
   "execution_count": 23,
   "metadata": {},
   "outputs": [],
   "source": [
    "def manhattan(p1, p2):\n",
    "    return np.sum(abs(p1 - p2))"
   ]
  },
  {
   "cell_type": "code",
   "execution_count": 24,
   "metadata": {},
   "outputs": [],
   "source": [
    "def k_NN(comp, arr, method, k):\n",
    "    nn = []\n",
    "    dist = []\n",
    "    \n",
    "    for j, data in enumerate(arr):\n",
    "        \n",
    "        # While nearest neighbor list does not have k elements\n",
    "        if len(nn) < k:\n",
    "            # If first element, add to nearest neighbor\n",
    "            if len(nn) == 0:\n",
    "                nn.append(j)\n",
    "                dist.append(method(comp, arr[j]))\n",
    "            \n",
    "            # Else insert in ascending order to nearest neighbors\n",
    "            else:\n",
    "                for n in range(len(nn)):\n",
    "                    if method(comp, arr[j]) < method(comp, arr[nn[n]]):\n",
    "                        nn.insert(n, j)\n",
    "                        dist.insert(n, method(comp, arr[j]))\n",
    "                        break\n",
    "                    elif n == len(nn) - 1:\n",
    "                        nn.append(j)\n",
    "                        dist.append(method(comp, arr[j]))\n",
    "                        \n",
    "        # Otherwise insert in ascending order and delete last element           \n",
    "        else:\n",
    "            for n in range(len(nn)):\n",
    "                if method(comp, arr[j]) < method(comp, arr[nn[n]]):\n",
    "                    nn.insert(n, j)\n",
    "                    dist.insert(n, method(comp, arr[j]))\n",
    "                    del nn[-1]\n",
    "                    del dist[-1]\n",
    "                    break\n",
    "                    \n",
    "    return [nn, dist]"
   ]
  },
  {
   "cell_type": "code",
   "execution_count": 25,
   "metadata": {},
   "outputs": [],
   "source": [
    "def k_NN_predict(comp, bin_arr, method, k):\n",
    "    \n",
    "    # Map target possibilities\n",
    "    mapping = {}\n",
    "    for j, x in enumerate(bin_arr[2]):\n",
    "            feature = x\n",
    "            if feature not in mapping:\n",
    "                mapping[feature] = len(mapping)\n",
    "    \n",
    "    # Generate count for map from neighbors\n",
    "    count = []\n",
    "    for feature in mapping:\n",
    "        count.append(0)\n",
    "    \n",
    "    nn_arr = k_NN(comp, bin_arr[0], method, k)\n",
    "    \n",
    "    for nn in nn_arr[0]:\n",
    "        count[mapping[bin_arr[2][nn]]] += 1\n",
    "    \n",
    "    # Return prediction based on majority\n",
    "    for feature in mapping:\n",
    "        if count.index(max(count)) == mapping[feature]:\n",
    "            return feature\n",
    "    \n",
    "    return"
   ]
  },
  {
   "cell_type": "code",
   "execution_count": 26,
   "metadata": {},
   "outputs": [
    {
     "name": "stdout",
     "output_type": "stream",
     "text": [
      "5000, 90, 2\n"
     ]
    }
   ],
   "source": [
    "train = binarization('income.train.txt.5k')"
   ]
  },
  {
   "cell_type": "code",
   "execution_count": 27,
   "metadata": {},
   "outputs": [
    {
     "name": "stdout",
     "output_type": "stream",
     "text": [
      "1000, 91, 2\n"
     ]
    }
   ],
   "source": [
    "dev = binarization('income.dev.txt', train[1])"
   ]
  },
  {
   "cell_type": "code",
   "execution_count": 28,
   "metadata": {},
   "outputs": [
    {
     "name": "stdout",
     "output_type": "stream",
     "text": [
      "5000, 91, 2\n"
     ]
    }
   ],
   "source": [
    "train = binarization('income.train.txt.5k', dev[1])"
   ]
  },
  {
   "cell_type": "code",
   "execution_count": 29,
   "metadata": {},
   "outputs": [
    {
     "data": {
      "text/plain": [
       "True"
      ]
     },
     "execution_count": 29,
     "metadata": {},
     "output_type": "execute_result"
    }
   ],
   "source": [
    "train[1] == dev[1]"
   ]
  },
  {
   "cell_type": "code",
   "execution_count": 30,
   "metadata": {},
   "outputs": [
    {
     "data": {
      "text/plain": [
       "91"
      ]
     },
     "execution_count": 30,
     "metadata": {},
     "output_type": "execute_result"
    }
   ],
   "source": [
    "len(dev[1])"
   ]
  },
  {
   "cell_type": "code",
   "execution_count": 31,
   "metadata": {},
   "outputs": [
    {
     "data": {
      "text/plain": [
       "91"
      ]
     },
     "execution_count": 31,
     "metadata": {},
     "output_type": "execute_result"
    }
   ],
   "source": [
    "len(train[1])"
   ]
  },
  {
   "cell_type": "code",
   "execution_count": 32,
   "metadata": {},
   "outputs": [
    {
     "data": {
      "text/plain": [
       "[[1010, 1713, 3769, 2003, 2450],\n",
       " [0.05999999999999983,\n",
       "  0.16000000000000014,\n",
       "  0.26,\n",
       "  0.2828427124746192,\n",
       "  0.3400000000000001]]"
      ]
     },
     "execution_count": 32,
     "metadata": {},
     "output_type": "execute_result"
    }
   ],
   "source": [
    "k_NN(dev[0][-1], train[0], euclidean, 5)"
   ]
  },
  {
   "cell_type": "code",
   "execution_count": 33,
   "metadata": {},
   "outputs": [
    {
     "data": {
      "text/plain": [
       "[[1010, 1713, 3769, 2450, 2003],\n",
       " [0.05999999999999983,\n",
       "  0.16000000000000014,\n",
       "  0.26,\n",
       "  0.3400000000000001,\n",
       "  0.40000000000000024]]"
      ]
     },
     "execution_count": 33,
     "metadata": {},
     "output_type": "execute_result"
    }
   ],
   "source": [
    "k_NN(dev[0][-1], train[0], manhattan, 5)"
   ]
  },
  {
   "cell_type": "code",
   "execution_count": 34,
   "metadata": {},
   "outputs": [
    {
     "name": "stderr",
     "output_type": "stream",
     "text": [
      "'tail' is not recognized as an internal or external command,\n",
      "operable program or batch file.\n"
     ]
    }
   ],
   "source": [
    "!tail -1  income.dev.txt "
   ]
  },
  {
   "cell_type": "code",
   "execution_count": 35,
   "metadata": {},
   "outputs": [
    {
     "name": "stderr",
     "output_type": "stream",
     "text": [
      "'sed' is not recognized as an internal or external command,\n",
      "operable program or batch file.\n"
     ]
    }
   ],
   "source": [
    "!sed -n 1011p income.train.txt.5k"
   ]
  },
  {
   "cell_type": "code",
   "execution_count": 36,
   "metadata": {},
   "outputs": [
    {
     "name": "stderr",
     "output_type": "stream",
     "text": [
      "'sed' is not recognized as an internal or external command,\n",
      "operable program or batch file.\n"
     ]
    }
   ],
   "source": [
    "!sed -n 1714p income.train.txt.5k"
   ]
  },
  {
   "cell_type": "code",
   "execution_count": 37,
   "metadata": {},
   "outputs": [
    {
     "name": "stderr",
     "output_type": "stream",
     "text": [
      "'sed' is not recognized as an internal or external command,\n",
      "operable program or batch file.\n"
     ]
    }
   ],
   "source": [
    "!sed -n 3770p income.train.txt.5k"
   ]
  },
  {
   "cell_type": "code",
   "execution_count": 38,
   "metadata": {},
   "outputs": [
    {
     "name": "stderr",
     "output_type": "stream",
     "text": [
      "'sed' is not recognized as an internal or external command,\n",
      "operable program or batch file.\n"
     ]
    }
   ],
   "source": [
    "!sed -n 2004p income.train.txt.5k"
   ]
  },
  {
   "cell_type": "code",
   "execution_count": 39,
   "metadata": {},
   "outputs": [
    {
     "name": "stderr",
     "output_type": "stream",
     "text": [
      "'sed' is not recognized as an internal or external command,\n",
      "operable program or batch file.\n"
     ]
    }
   ],
   "source": [
    "!sed -n 3699p income.train.txt.5k"
   ]
  },
  {
   "cell_type": "code",
   "execution_count": 40,
   "metadata": {},
   "outputs": [
    {
     "name": "stderr",
     "output_type": "stream",
     "text": [
      "'sed' is not recognized as an internal or external command,\n",
      "operable program or batch file.\n"
     ]
    }
   ],
   "source": [
    "!sed -n 2451p income.train.txt.5k"
   ]
  },
  {
   "cell_type": "code",
   "execution_count": 41,
   "metadata": {},
   "outputs": [
    {
     "data": {
      "text/plain": [
       "[[1010, 1713, 3769, 2003, 2450, 3698, 3680, 681, 2731],\n",
       " [0.05999999999999983,\n",
       "  0.16000000000000014,\n",
       "  0.26,\n",
       "  0.2828427124746192,\n",
       "  0.3400000000000001,\n",
       "  0.4004996878900156,\n",
       "  0.4386342439892262,\n",
       "  0.5599999999999999,\n",
       "  1.4142135623730951]]"
      ]
     },
     "execution_count": 41,
     "metadata": {},
     "output_type": "execute_result"
    }
   ],
   "source": [
    "k_NN(dev[0][-1], train[0], euclidean, 9)"
   ]
  },
  {
   "cell_type": "code",
   "execution_count": 42,
   "metadata": {},
   "outputs": [
    {
     "name": "stderr",
     "output_type": "stream",
     "text": [
      "'sed' is not recognized as an internal or external command,\n",
      "operable program or batch file.\n"
     ]
    }
   ],
   "source": [
    "!sed -n 2451p income.train.txt.5k"
   ]
  },
  {
   "cell_type": "code",
   "execution_count": 43,
   "metadata": {},
   "outputs": [
    {
     "name": "stderr",
     "output_type": "stream",
     "text": [
      "'sed' is not recognized as an internal or external command,\n",
      "operable program or batch file.\n"
     ]
    }
   ],
   "source": [
    "!sed -n 3681p income.train.txt.5k"
   ]
  },
  {
   "cell_type": "code",
   "execution_count": 44,
   "metadata": {},
   "outputs": [
    {
     "name": "stderr",
     "output_type": "stream",
     "text": [
      "'sed' is not recognized as an internal or external command,\n",
      "operable program or batch file.\n"
     ]
    }
   ],
   "source": [
    "!sed -n 682p income.train.txt.5k"
   ]
  },
  {
   "cell_type": "code",
   "execution_count": 45,
   "metadata": {},
   "outputs": [
    {
     "name": "stderr",
     "output_type": "stream",
     "text": [
      "'sed' is not recognized as an internal or external command,\n",
      "operable program or batch file.\n"
     ]
    }
   ],
   "source": [
    "!sed -n 2732p income.train.txt.5k"
   ]
  },
  {
   "cell_type": "code",
   "execution_count": 46,
   "metadata": {},
   "outputs": [
    {
     "data": {
      "text/plain": [
       "[[1010, 1713, 3769, 2450, 2003, 3698, 681, 3680, 2731],\n",
       " [0.05999999999999983,\n",
       "  0.16000000000000014,\n",
       "  0.26,\n",
       "  0.3400000000000001,\n",
       "  0.40000000000000024,\n",
       "  0.41999999999999993,\n",
       "  0.5599999999999999,\n",
       "  0.58,\n",
       "  2.0]]"
      ]
     },
     "execution_count": 46,
     "metadata": {},
     "output_type": "execute_result"
    }
   ],
   "source": [
    "k_NN(dev[0][-1], train[0], manhattan, 9)"
   ]
  },
  {
   "cell_type": "code",
   "execution_count": 47,
   "metadata": {},
   "outputs": [
    {
     "name": "stderr",
     "output_type": "stream",
     "text": [
      "'sed' is not recognized as an internal or external command,\n",
      "operable program or batch file.\n"
     ]
    }
   ],
   "source": [
    "!sed -n 2004p income.train.txt.5k"
   ]
  },
  {
   "cell_type": "code",
   "execution_count": 48,
   "metadata": {},
   "outputs": [
    {
     "name": "stderr",
     "output_type": "stream",
     "text": [
      "'sed' is not recognized as an internal or external command,\n",
      "operable program or batch file.\n"
     ]
    }
   ],
   "source": [
    "!sed -n 3681p income.train.txt.5k"
   ]
  },
  {
   "cell_type": "code",
   "execution_count": 49,
   "metadata": {},
   "outputs": [
    {
     "name": "stderr",
     "output_type": "stream",
     "text": [
      "'sed' is not recognized as an internal or external command,\n",
      "operable program or batch file.\n"
     ]
    }
   ],
   "source": [
    "!sed -n 682p income.train.txt.5k"
   ]
  },
  {
   "cell_type": "code",
   "execution_count": 50,
   "metadata": {},
   "outputs": [
    {
     "name": "stderr",
     "output_type": "stream",
     "text": [
      "'sed' is not recognized as an internal or external command,\n",
      "operable program or batch file.\n"
     ]
    }
   ],
   "source": [
    "!sed -n 2732p income.train.txt.5k"
   ]
  },
  {
   "cell_type": "code",
   "execution_count": 51,
   "metadata": {},
   "outputs": [
    {
     "data": {
      "text/plain": [
       "'<=50K'"
      ]
     },
     "execution_count": 51,
     "metadata": {},
     "output_type": "execute_result"
    }
   ],
   "source": [
    "k_NN_predict(dev[0][-1], train, euclidean, 5)"
   ]
  },
  {
   "cell_type": "code",
   "execution_count": 52,
   "metadata": {},
   "outputs": [],
   "source": [
    "def v_euclidean(arr, comp):\n",
    "    return np.linalg.norm(arr - comp, axis=1)"
   ]
  },
  {
   "cell_type": "code",
   "execution_count": 53,
   "metadata": {},
   "outputs": [],
   "source": [
    "def v_manhattan(arr,comp):\n",
    "    return np.sum(abs(arr - comp), axis=1)"
   ]
  },
  {
   "cell_type": "code",
   "execution_count": 54,
   "metadata": {},
   "outputs": [],
   "source": [
    "def v_k_NN(comp, arr, method, k):\n",
    "    m_arr = method(arr, comp)\n",
    "    nn_arr = np.argpartition(m_arr,k)[:k]\n",
    "    dist = []\n",
    "    \n",
    "    for nn in nn_arr:\n",
    "        dist.append(m_arr[nn])\n",
    "        \n",
    "    return [nn_arr, dist]"
   ]
  },
  {
   "cell_type": "code",
   "execution_count": 55,
   "metadata": {},
   "outputs": [],
   "source": [
    "def v_k_NN_predict(comp, bin_arr, method, k, tar_map):\n",
    "        \n",
    "    # Map target possibilities\n",
    "    mapping = tar_map\n",
    "    \n",
    "    \n",
    "    # Generate count for map from neighbors\n",
    "    count = []\n",
    "    for feature in mapping:\n",
    "        count.append(0)\n",
    "    \n",
    "    nn_arr = v_k_NN(comp, bin_arr[0], method, k)\n",
    "    \n",
    "    for nn in nn_arr[0]:\n",
    "        count[mapping[bin_arr[2][nn]]] += 1\n",
    "    \n",
    "    # Return prediction based on majority\n",
    "    for feature in mapping:\n",
    "        if count.index(max(count)) == mapping[feature]:\n",
    "            return [feature, mapping]"
   ]
  },
  {
   "cell_type": "code",
   "execution_count": 56,
   "metadata": {},
   "outputs": [
    {
     "data": {
      "text/plain": [
       "[array([1713, 3769, 2003, 1010, 2450], dtype=int64),\n",
       " [0.16000000000000014,\n",
       "  0.26,\n",
       "  0.2828427124746192,\n",
       "  0.05999999999999983,\n",
       "  0.3400000000000001]]"
      ]
     },
     "execution_count": 56,
     "metadata": {},
     "output_type": "execute_result"
    }
   ],
   "source": [
    "v_k_NN(dev[0][-1], train[0], v_euclidean, 5)"
   ]
  },
  {
   "cell_type": "code",
   "execution_count": 57,
   "metadata": {},
   "outputs": [],
   "source": [
    "k_set = [1, 3, 5, 7, 9, 99, 999]"
   ]
  },
  {
   "cell_type": "code",
   "execution_count": 58,
   "metadata": {},
   "outputs": [],
   "source": [
    "def error_rate(k_set, method, test_set):\n",
    "    output = []\n",
    "    mapping = {}\n",
    "    \n",
    "    for j, x in enumerate(train[2]):\n",
    "            feature = x\n",
    "            if feature not in mapping:\n",
    "                mapping[feature] = len(mapping)\n",
    "                \n",
    "    for k in k_set:\n",
    "        print(k)\n",
    "        correct = 0\n",
    "        p_arr = None\n",
    "        for i, person in enumerate(test_set[0]):\n",
    "            p = v_k_NN_predict(person, train, method, k, mapping)\n",
    "            \n",
    "            # Build positive rate array\n",
    "            if p_arr is None:\n",
    "                p_arr = [p[1],[]]\n",
    "                for e in p[1]:\n",
    "                    p_arr[1].append(0)\n",
    "                    \n",
    "            # Update error and positive rate\n",
    "            if p[0] == test_set[2][i]:\n",
    "                correct += 1\n",
    "            \n",
    "            p_arr[1][p_arr[0][p[0]]] += 1\n",
    "            \n",
    "        print([correct , p_arr])\n",
    "        output.append([correct / len(test_set[0]), p_arr])\n",
    "        \n",
    "    return output"
   ]
  },
  {
   "cell_type": "code",
   "execution_count": 59,
   "metadata": {},
   "outputs": [],
   "source": [
    "s1 = time.time()"
   ]
  },
  {
   "cell_type": "code",
   "execution_count": 60,
   "metadata": {
    "scrolled": true
   },
   "outputs": [
    {
     "name": "stdout",
     "output_type": "stream",
     "text": [
      "1\n",
      "[767, [{'<=50K': 0, '>50K': 1}, [731, 269]]]\n",
      "3\n",
      "[808, [{'<=50K': 0, '>50K': 1}, [740, 260]]]\n",
      "5\n",
      "[823, [{'<=50K': 0, '>50K': 1}, [749, 251]]]\n",
      "7\n",
      "[835, [{'<=50K': 0, '>50K': 1}, [755, 245]]]\n",
      "9\n",
      "[840, [{'<=50K': 0, '>50K': 1}, [774, 226]]]\n",
      "99\n",
      "[842, [{'<=50K': 0, '>50K': 1}, [806, 194]]]\n",
      "999\n",
      "[821, [{'<=50K': 0, '>50K': 1}, [889, 111]]]\n"
     ]
    },
    {
     "data": {
      "text/plain": [
       "[[0.767, [{'<=50K': 0, '>50K': 1}, [731, 269]]],\n",
       " [0.808, [{'<=50K': 0, '>50K': 1}, [740, 260]]],\n",
       " [0.823, [{'<=50K': 0, '>50K': 1}, [749, 251]]],\n",
       " [0.835, [{'<=50K': 0, '>50K': 1}, [755, 245]]],\n",
       " [0.84, [{'<=50K': 0, '>50K': 1}, [774, 226]]],\n",
       " [0.842, [{'<=50K': 0, '>50K': 1}, [806, 194]]],\n",
       " [0.821, [{'<=50K': 0, '>50K': 1}, [889, 111]]]]"
      ]
     },
     "execution_count": 60,
     "metadata": {},
     "output_type": "execute_result"
    }
   ],
   "source": [
    "error_rate(k_set, v_euclidean, dev)"
   ]
  },
  {
   "cell_type": "code",
   "execution_count": 61,
   "metadata": {},
   "outputs": [],
   "source": [
    "e1 = time.time()"
   ]
  },
  {
   "cell_type": "code",
   "execution_count": 62,
   "metadata": {},
   "outputs": [
    {
     "data": {
      "text/plain": [
       "25.819942235946655"
      ]
     },
     "execution_count": 62,
     "metadata": {},
     "output_type": "execute_result"
    }
   ],
   "source": [
    "e1 - s1"
   ]
  },
  {
   "cell_type": "code",
   "execution_count": 63,
   "metadata": {},
   "outputs": [],
   "source": [
    "s2 = time.time()"
   ]
  },
  {
   "cell_type": "code",
   "execution_count": 64,
   "metadata": {},
   "outputs": [
    {
     "name": "stdout",
     "output_type": "stream",
     "text": [
      "1\n",
      "[4924, [{'<=50K': 0, '>50K': 1}, [3747, 1253]]]\n",
      "3\n"
     ]
    },
    {
     "ename": "KeyboardInterrupt",
     "evalue": "",
     "output_type": "error",
     "traceback": [
      "\u001b[1;31m---------------------------------------------------------------------------\u001b[0m",
      "\u001b[1;31mKeyboardInterrupt\u001b[0m                         Traceback (most recent call last)",
      "\u001b[1;32m<ipython-input-64-7a69cfd6f06e>\u001b[0m in \u001b[0;36m<module>\u001b[1;34m\u001b[0m\n\u001b[1;32m----> 1\u001b[1;33m \u001b[0merror_rate\u001b[0m\u001b[1;33m(\u001b[0m\u001b[0mk_set\u001b[0m\u001b[1;33m,\u001b[0m \u001b[0mv_euclidean\u001b[0m\u001b[1;33m,\u001b[0m \u001b[0mtrain\u001b[0m\u001b[1;33m)\u001b[0m\u001b[1;33m\u001b[0m\u001b[1;33m\u001b[0m\u001b[0m\n\u001b[0m",
      "\u001b[1;32m<ipython-input-58-60de63f62c11>\u001b[0m in \u001b[0;36merror_rate\u001b[1;34m(k_set, method, test_set)\u001b[0m\n\u001b[0;32m     13\u001b[0m         \u001b[0mp_arr\u001b[0m \u001b[1;33m=\u001b[0m \u001b[1;32mNone\u001b[0m\u001b[1;33m\u001b[0m\u001b[1;33m\u001b[0m\u001b[0m\n\u001b[0;32m     14\u001b[0m         \u001b[1;32mfor\u001b[0m \u001b[0mi\u001b[0m\u001b[1;33m,\u001b[0m \u001b[0mperson\u001b[0m \u001b[1;32min\u001b[0m \u001b[0menumerate\u001b[0m\u001b[1;33m(\u001b[0m\u001b[0mtest_set\u001b[0m\u001b[1;33m[\u001b[0m\u001b[1;36m0\u001b[0m\u001b[1;33m]\u001b[0m\u001b[1;33m)\u001b[0m\u001b[1;33m:\u001b[0m\u001b[1;33m\u001b[0m\u001b[1;33m\u001b[0m\u001b[0m\n\u001b[1;32m---> 15\u001b[1;33m             \u001b[0mp\u001b[0m \u001b[1;33m=\u001b[0m \u001b[0mv_k_NN_predict\u001b[0m\u001b[1;33m(\u001b[0m\u001b[0mperson\u001b[0m\u001b[1;33m,\u001b[0m \u001b[0mtrain\u001b[0m\u001b[1;33m,\u001b[0m \u001b[0mmethod\u001b[0m\u001b[1;33m,\u001b[0m \u001b[0mk\u001b[0m\u001b[1;33m,\u001b[0m \u001b[0mmapping\u001b[0m\u001b[1;33m)\u001b[0m\u001b[1;33m\u001b[0m\u001b[1;33m\u001b[0m\u001b[0m\n\u001b[0m\u001b[0;32m     16\u001b[0m \u001b[1;33m\u001b[0m\u001b[0m\n\u001b[0;32m     17\u001b[0m             \u001b[1;31m# Build positive rate array\u001b[0m\u001b[1;33m\u001b[0m\u001b[1;33m\u001b[0m\u001b[1;33m\u001b[0m\u001b[0m\n",
      "\u001b[1;32m<ipython-input-55-815771a5536b>\u001b[0m in \u001b[0;36mv_k_NN_predict\u001b[1;34m(comp, bin_arr, method, k, tar_map)\u001b[0m\n\u001b[0;32m     10\u001b[0m         \u001b[0mcount\u001b[0m\u001b[1;33m.\u001b[0m\u001b[0mappend\u001b[0m\u001b[1;33m(\u001b[0m\u001b[1;36m0\u001b[0m\u001b[1;33m)\u001b[0m\u001b[1;33m\u001b[0m\u001b[1;33m\u001b[0m\u001b[0m\n\u001b[0;32m     11\u001b[0m \u001b[1;33m\u001b[0m\u001b[0m\n\u001b[1;32m---> 12\u001b[1;33m     \u001b[0mnn_arr\u001b[0m \u001b[1;33m=\u001b[0m \u001b[0mv_k_NN\u001b[0m\u001b[1;33m(\u001b[0m\u001b[0mcomp\u001b[0m\u001b[1;33m,\u001b[0m \u001b[0mbin_arr\u001b[0m\u001b[1;33m[\u001b[0m\u001b[1;36m0\u001b[0m\u001b[1;33m]\u001b[0m\u001b[1;33m,\u001b[0m \u001b[0mmethod\u001b[0m\u001b[1;33m,\u001b[0m \u001b[0mk\u001b[0m\u001b[1;33m)\u001b[0m\u001b[1;33m\u001b[0m\u001b[1;33m\u001b[0m\u001b[0m\n\u001b[0m\u001b[0;32m     13\u001b[0m \u001b[1;33m\u001b[0m\u001b[0m\n\u001b[0;32m     14\u001b[0m     \u001b[1;32mfor\u001b[0m \u001b[0mnn\u001b[0m \u001b[1;32min\u001b[0m \u001b[0mnn_arr\u001b[0m\u001b[1;33m[\u001b[0m\u001b[1;36m0\u001b[0m\u001b[1;33m]\u001b[0m\u001b[1;33m:\u001b[0m\u001b[1;33m\u001b[0m\u001b[1;33m\u001b[0m\u001b[0m\n",
      "\u001b[1;32m<ipython-input-54-95f56c229c2f>\u001b[0m in \u001b[0;36mv_k_NN\u001b[1;34m(comp, arr, method, k)\u001b[0m\n\u001b[0;32m      1\u001b[0m \u001b[1;32mdef\u001b[0m \u001b[0mv_k_NN\u001b[0m\u001b[1;33m(\u001b[0m\u001b[0mcomp\u001b[0m\u001b[1;33m,\u001b[0m \u001b[0marr\u001b[0m\u001b[1;33m,\u001b[0m \u001b[0mmethod\u001b[0m\u001b[1;33m,\u001b[0m \u001b[0mk\u001b[0m\u001b[1;33m)\u001b[0m\u001b[1;33m:\u001b[0m\u001b[1;33m\u001b[0m\u001b[1;33m\u001b[0m\u001b[0m\n\u001b[1;32m----> 2\u001b[1;33m     \u001b[0mm_arr\u001b[0m \u001b[1;33m=\u001b[0m \u001b[0mmethod\u001b[0m\u001b[1;33m(\u001b[0m\u001b[0marr\u001b[0m\u001b[1;33m,\u001b[0m \u001b[0mcomp\u001b[0m\u001b[1;33m)\u001b[0m\u001b[1;33m\u001b[0m\u001b[1;33m\u001b[0m\u001b[0m\n\u001b[0m\u001b[0;32m      3\u001b[0m     \u001b[0mnn_arr\u001b[0m \u001b[1;33m=\u001b[0m \u001b[0mnp\u001b[0m\u001b[1;33m.\u001b[0m\u001b[0margpartition\u001b[0m\u001b[1;33m(\u001b[0m\u001b[0mm_arr\u001b[0m\u001b[1;33m,\u001b[0m\u001b[0mk\u001b[0m\u001b[1;33m)\u001b[0m\u001b[1;33m[\u001b[0m\u001b[1;33m:\u001b[0m\u001b[0mk\u001b[0m\u001b[1;33m]\u001b[0m\u001b[1;33m\u001b[0m\u001b[1;33m\u001b[0m\u001b[0m\n\u001b[0;32m      4\u001b[0m     \u001b[0mdist\u001b[0m \u001b[1;33m=\u001b[0m \u001b[1;33m[\u001b[0m\u001b[1;33m]\u001b[0m\u001b[1;33m\u001b[0m\u001b[1;33m\u001b[0m\u001b[0m\n\u001b[0;32m      5\u001b[0m \u001b[1;33m\u001b[0m\u001b[0m\n",
      "\u001b[1;32m<ipython-input-52-22d8c029a7e2>\u001b[0m in \u001b[0;36mv_euclidean\u001b[1;34m(arr, comp)\u001b[0m\n\u001b[0;32m      1\u001b[0m \u001b[1;32mdef\u001b[0m \u001b[0mv_euclidean\u001b[0m\u001b[1;33m(\u001b[0m\u001b[0marr\u001b[0m\u001b[1;33m,\u001b[0m \u001b[0mcomp\u001b[0m\u001b[1;33m)\u001b[0m\u001b[1;33m:\u001b[0m\u001b[1;33m\u001b[0m\u001b[1;33m\u001b[0m\u001b[0m\n\u001b[1;32m----> 2\u001b[1;33m     \u001b[1;32mreturn\u001b[0m \u001b[0mnp\u001b[0m\u001b[1;33m.\u001b[0m\u001b[0mlinalg\u001b[0m\u001b[1;33m.\u001b[0m\u001b[0mnorm\u001b[0m\u001b[1;33m(\u001b[0m\u001b[0marr\u001b[0m \u001b[1;33m-\u001b[0m \u001b[0mcomp\u001b[0m\u001b[1;33m,\u001b[0m \u001b[0maxis\u001b[0m\u001b[1;33m=\u001b[0m\u001b[1;36m1\u001b[0m\u001b[1;33m)\u001b[0m\u001b[1;33m\u001b[0m\u001b[1;33m\u001b[0m\u001b[0m\n\u001b[0m",
      "\u001b[1;32m<__array_function__ internals>\u001b[0m in \u001b[0;36mnorm\u001b[1;34m(*args, **kwargs)\u001b[0m\n",
      "\u001b[1;32m~\\anaconda3\\lib\\site-packages\\numpy\\linalg\\linalg.py\u001b[0m in \u001b[0;36mnorm\u001b[1;34m(x, ord, axis, keepdims)\u001b[0m\n\u001b[0;32m   2558\u001b[0m         \u001b[1;32melif\u001b[0m \u001b[0mord\u001b[0m \u001b[1;32mis\u001b[0m \u001b[1;32mNone\u001b[0m \u001b[1;32mor\u001b[0m \u001b[0mord\u001b[0m \u001b[1;33m==\u001b[0m \u001b[1;36m2\u001b[0m\u001b[1;33m:\u001b[0m\u001b[1;33m\u001b[0m\u001b[1;33m\u001b[0m\u001b[0m\n\u001b[0;32m   2559\u001b[0m             \u001b[1;31m# special case for speedup\u001b[0m\u001b[1;33m\u001b[0m\u001b[1;33m\u001b[0m\u001b[1;33m\u001b[0m\u001b[0m\n\u001b[1;32m-> 2560\u001b[1;33m             \u001b[0ms\u001b[0m \u001b[1;33m=\u001b[0m \u001b[1;33m(\u001b[0m\u001b[0mx\u001b[0m\u001b[1;33m.\u001b[0m\u001b[0mconj\u001b[0m\u001b[1;33m(\u001b[0m\u001b[1;33m)\u001b[0m \u001b[1;33m*\u001b[0m \u001b[0mx\u001b[0m\u001b[1;33m)\u001b[0m\u001b[1;33m.\u001b[0m\u001b[0mreal\u001b[0m\u001b[1;33m\u001b[0m\u001b[1;33m\u001b[0m\u001b[0m\n\u001b[0m\u001b[0;32m   2561\u001b[0m             \u001b[1;32mreturn\u001b[0m \u001b[0msqrt\u001b[0m\u001b[1;33m(\u001b[0m\u001b[0madd\u001b[0m\u001b[1;33m.\u001b[0m\u001b[0mreduce\u001b[0m\u001b[1;33m(\u001b[0m\u001b[0ms\u001b[0m\u001b[1;33m,\u001b[0m \u001b[0maxis\u001b[0m\u001b[1;33m=\u001b[0m\u001b[0maxis\u001b[0m\u001b[1;33m,\u001b[0m \u001b[0mkeepdims\u001b[0m\u001b[1;33m=\u001b[0m\u001b[0mkeepdims\u001b[0m\u001b[1;33m)\u001b[0m\u001b[1;33m)\u001b[0m\u001b[1;33m\u001b[0m\u001b[1;33m\u001b[0m\u001b[0m\n\u001b[0;32m   2562\u001b[0m         \u001b[1;31m# None of the str-type keywords for ord ('fro', 'nuc')\u001b[0m\u001b[1;33m\u001b[0m\u001b[1;33m\u001b[0m\u001b[1;33m\u001b[0m\u001b[0m\n",
      "\u001b[1;31mKeyboardInterrupt\u001b[0m: "
     ]
    }
   ],
   "source": [
    "error_rate(k_set, v_euclidean, train)"
   ]
  },
  {
   "cell_type": "code",
   "execution_count": null,
   "metadata": {},
   "outputs": [],
   "source": [
    "e2 = time.time()"
   ]
  },
  {
   "cell_type": "code",
   "execution_count": null,
   "metadata": {},
   "outputs": [],
   "source": [
    "e2 - s2"
   ]
  },
  {
   "cell_type": "code",
   "execution_count": null,
   "metadata": {},
   "outputs": [],
   "source": [
    "s3 = time.time()"
   ]
  },
  {
   "cell_type": "code",
   "execution_count": null,
   "metadata": {},
   "outputs": [],
   "source": [
    "error_rate(k_set, v_manhattan, dev)"
   ]
  },
  {
   "cell_type": "code",
   "execution_count": null,
   "metadata": {},
   "outputs": [],
   "source": [
    "e3 = time.time()"
   ]
  },
  {
   "cell_type": "code",
   "execution_count": null,
   "metadata": {},
   "outputs": [],
   "source": [
    "e3 - s3"
   ]
  },
  {
   "cell_type": "code",
   "execution_count": null,
   "metadata": {},
   "outputs": [],
   "source": [
    "s4 = time.time()"
   ]
  },
  {
   "cell_type": "code",
   "execution_count": null,
   "metadata": {},
   "outputs": [],
   "source": [
    "error_rate(k_set, v_manhattan, train)"
   ]
  },
  {
   "cell_type": "code",
   "execution_count": null,
   "metadata": {},
   "outputs": [],
   "source": [
    "e4 = time.time()"
   ]
  },
  {
   "cell_type": "code",
   "execution_count": null,
   "metadata": {},
   "outputs": [],
   "source": [
    "e4 - s4"
   ]
  },
  {
   "cell_type": "code",
   "execution_count": null,
   "metadata": {},
   "outputs": [],
   "source": [
    "def binarize_all(file, mapping=None):\n",
    "    # Intialize data array from file\n",
    "    data = map(lambda s: s.strip().split(\", \"), open(file).readlines())\n",
    "    \n",
    "    # Initialize variables\n",
    "    if mapping is None:\n",
    "        mapping = {}\n",
    "    categorical_data = []\n",
    "    target_data = []\n",
    "    min_v = [999, 999]\n",
    "    max_v = [-1, -1]\n",
    "    \n",
    "    # Map categorical features and save numerical fields\n",
    "    for row in data:\n",
    "        new_row = []\n",
    "        for j, x in enumerate(row):\n",
    "            if j == 9:\n",
    "                target_data.append(x)\n",
    "                continue\n",
    "            feature = (j, x)\n",
    "            if feature not in mapping:\n",
    "                mapping[feature] = len(mapping)\n",
    "            new_row.append(mapping[feature])\n",
    "        categorical_data.append(new_row)\n",
    "        \n",
    "    # Binarize categorical data\n",
    "    print(str(len(categorical_data)) + ', ' + str(len(mapping)))\n",
    "          \n",
    "    binary_data = np.zeros((len(categorical_data), len(mapping)))\n",
    "          \n",
    "    for i, row in enumerate(categorical_data):\n",
    "        for x in row:\n",
    "            binary_data[i][x] = 1\n",
    "    \n",
    "    return [binary_data, mapping, target_data]"
   ]
  },
  {
   "cell_type": "code",
   "execution_count": null,
   "metadata": {},
   "outputs": [],
   "source": [
    "def error_rate_all(k_set, method, test_set):\n",
    "    output = []\n",
    "    mapping = {}\n",
    "    \n",
    "    for j, x in enumerate(train[2]):\n",
    "            feature = x\n",
    "            if feature not in mapping:\n",
    "                mapping[feature] = len(mapping)\n",
    "                \n",
    "    for k in k_set:\n",
    "        print(k)\n",
    "        correct = 0\n",
    "        p_arr = None\n",
    "        for i, person in enumerate(test_set[0]):\n",
    "            p = v_k_NN_predict(person, train_all, method, k, mapping)\n",
    "            \n",
    "            # Build positive rate array\n",
    "            if p_arr is None:\n",
    "                p_arr = [p[1],[]]\n",
    "                for e in p[1]:\n",
    "                    p_arr[1].append(0)\n",
    "                    \n",
    "            # Update error and positive rate\n",
    "            if p[0] == test_set[2][i]:\n",
    "                correct += 1\n",
    "            \n",
    "            p_arr[1][p_arr[0][p[0]]] += 1\n",
    "            \n",
    "        print([correct , p_arr])\n",
    "        output.append([correct / len(test_set[0]), p_arr])\n",
    "        \n",
    "    return output"
   ]
  },
  {
   "cell_type": "code",
   "execution_count": null,
   "metadata": {},
   "outputs": [],
   "source": [
    "train_all = binarize_all('income.train.txt.5k')"
   ]
  },
  {
   "cell_type": "code",
   "execution_count": null,
   "metadata": {},
   "outputs": [],
   "source": [
    "dev_all = binarize_all('income.dev.txt', train_all[1])"
   ]
  },
  {
   "cell_type": "code",
   "execution_count": null,
   "metadata": {},
   "outputs": [],
   "source": [
    "train_all = binarize_all('income.train.txt.5k', dev_all[1])"
   ]
  },
  {
   "cell_type": "code",
   "execution_count": null,
   "metadata": {},
   "outputs": [],
   "source": [
    "s5 = time.time()"
   ]
  },
  {
   "cell_type": "code",
   "execution_count": null,
   "metadata": {},
   "outputs": [],
   "source": [
    "error_rate_all(k_set, v_euclidean, dev_all)"
   ]
  },
  {
   "cell_type": "code",
   "execution_count": null,
   "metadata": {},
   "outputs": [],
   "source": [
    "e5 = time.time()"
   ]
  },
  {
   "cell_type": "code",
   "execution_count": null,
   "metadata": {},
   "outputs": [],
   "source": [
    "e5 - s5"
   ]
  },
  {
   "cell_type": "code",
   "execution_count": null,
   "metadata": {},
   "outputs": [],
   "source": [
    "s6 = time.time()"
   ]
  },
  {
   "cell_type": "code",
   "execution_count": null,
   "metadata": {},
   "outputs": [],
   "source": [
    "error_rate_all(k_set, v_euclidean, train_all)"
   ]
  },
  {
   "cell_type": "code",
   "execution_count": null,
   "metadata": {},
   "outputs": [],
   "source": [
    "e6 = time.time()"
   ]
  },
  {
   "cell_type": "code",
   "execution_count": null,
   "metadata": {},
   "outputs": [],
   "source": [
    "e6 - s6"
   ]
  },
  {
   "cell_type": "code",
   "execution_count": null,
   "metadata": {},
   "outputs": [],
   "source": [
    "test = binarization('income.test.blind', train[1])"
   ]
  },
  {
   "cell_type": "code",
   "execution_count": null,
   "metadata": {},
   "outputs": [],
   "source": [
    "def mass_predict(k_set, method, test_set):\n",
    "    output = []\n",
    "    \n",
    "    mapping = {}\n",
    "    \n",
    "    for j, x in enumerate(train[2]):\n",
    "            feature = x\n",
    "            if feature not in mapping:\n",
    "                mapping[feature] = len(mapping)\n",
    "    \n",
    "    for k in k_set:\n",
    "        print(k)\n",
    "        p_arr = None\n",
    "        predictions = []\n",
    "        for i, person in enumerate(test_set[0]):\n",
    "            p = v_k_NN_predict(person, train, method, k, mapping)\n",
    "            predictions.append(p)\n",
    "            \n",
    "            # Build positive rate array\n",
    "            if p_arr is None:\n",
    "                p_arr = [p[1],[]]\n",
    "                for e in p[1]:\n",
    "                    p_arr[1].append(0)\n",
    "\n",
    "            # Update postive rate\n",
    "            p_arr[1][p_arr[0][p[0]]] += 1\n",
    "            \n",
    "        print([p_arr])\n",
    "        output.append(p_arr)\n",
    "        output.append(predictions)\n",
    "        \n",
    "    return output"
   ]
  },
  {
   "cell_type": "code",
   "execution_count": null,
   "metadata": {},
   "outputs": [],
   "source": [
    "s7 = time.time()"
   ]
  },
  {
   "cell_type": "code",
   "execution_count": null,
   "metadata": {},
   "outputs": [],
   "source": [
    "blind = mass_predict([99], v_manhattan, test)"
   ]
  },
  {
   "cell_type": "code",
   "execution_count": null,
   "metadata": {},
   "outputs": [],
   "source": [
    "e7 = time.time()"
   ]
  },
  {
   "cell_type": "code",
   "execution_count": null,
   "metadata": {},
   "outputs": [],
   "source": [
    "e7 - s7"
   ]
  },
  {
   "cell_type": "code",
   "execution_count": null,
   "metadata": {},
   "outputs": [],
   "source": [
    "with open('income.test.predicted', 'w') as out:\n",
    "    for i, line in enumerate(open('income.test.blind').readlines()):\n",
    "        out.write(line[:-2] + ', ' + blind[1][i][0] + '\\n')"
   ]
  },
  {
   "cell_type": "code",
   "execution_count": 76,
   "metadata": {},
   "outputs": [],
   "source": [
    "k_set = [50, 60, 70, 80, 90, 100]"
   ]
  },
  {
   "cell_type": "code",
   "execution_count": 77,
   "metadata": {},
   "outputs": [],
   "source": [
    "s = time.time()"
   ]
  },
  {
   "cell_type": "code",
   "execution_count": 78,
   "metadata": {},
   "outputs": [
    {
     "name": "stdout",
     "output_type": "stream",
     "text": [
      "50\n",
      "[4102, [{'<=50K': 0, '>50K': 1}, [4039, 961]]]\n",
      "60\n",
      "[4100, [{'<=50K': 0, '>50K': 1}, [4029, 971]]]\n",
      "70\n",
      "[4108, [{'<=50K': 0, '>50K': 1}, [4031, 969]]]\n",
      "80\n",
      "[4102, [{'<=50K': 0, '>50K': 1}, [4039, 961]]]\n",
      "90\n",
      "[4108, [{'<=50K': 0, '>50K': 1}, [4039, 961]]]\n",
      "100\n",
      "[4107, [{'<=50K': 0, '>50K': 1}, [4046, 954]]]\n"
     ]
    },
    {
     "data": {
      "text/plain": [
       "[[0.8204, [{'<=50K': 0, '>50K': 1}, [4039, 961]]],\n",
       " [0.82, [{'<=50K': 0, '>50K': 1}, [4029, 971]]],\n",
       " [0.8216, [{'<=50K': 0, '>50K': 1}, [4031, 969]]],\n",
       " [0.8204, [{'<=50K': 0, '>50K': 1}, [4039, 961]]],\n",
       " [0.8216, [{'<=50K': 0, '>50K': 1}, [4039, 961]]],\n",
       " [0.8214, [{'<=50K': 0, '>50K': 1}, [4046, 954]]]]"
      ]
     },
     "execution_count": 78,
     "metadata": {},
     "output_type": "execute_result"
    }
   ],
   "source": [
    "error_rate(k_set, v_euclidean, train)"
   ]
  },
  {
   "cell_type": "code",
   "execution_count": 79,
   "metadata": {},
   "outputs": [],
   "source": [
    "e = time.time()"
   ]
  },
  {
   "cell_type": "code",
   "execution_count": 80,
   "metadata": {},
   "outputs": [
    {
     "data": {
      "text/plain": [
       "69.71623373031616"
      ]
     },
     "execution_count": 80,
     "metadata": {},
     "output_type": "execute_result"
    }
   ],
   "source": [
    "e - s"
   ]
  },
  {
   "cell_type": "code",
   "execution_count": null,
   "metadata": {},
   "outputs": [],
   "source": []
  },
  {
   "cell_type": "code",
   "execution_count": null,
   "metadata": {},
   "outputs": [],
   "source": []
  }
 ],
 "metadata": {
  "kernelspec": {
   "display_name": "Python 3",
   "language": "python",
   "name": "python3"
  },
  "language_info": {
   "codemirror_mode": {
    "name": "ipython",
    "version": 3
   },
   "file_extension": ".py",
   "mimetype": "text/x-python",
   "name": "python",
   "nbconvert_exporter": "python",
   "pygments_lexer": "ipython3",
   "version": "3.8.5"
  }
 },
 "nbformat": 4,
 "nbformat_minor": 4
}
