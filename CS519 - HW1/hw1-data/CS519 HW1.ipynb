{
 "cells": [
  {
   "cell_type": "code",
   "execution_count": 1,
   "metadata": {},
   "outputs": [
    {
     "name": "stdout",
     "output_type": "stream",
     "text": [
      "CS519 HW1.ipynb\n",
      "hw1-random_output.py\n",
      "hw1-validate.py\n",
      "hw1.tex\n",
      "income.dev.txt\n",
      "income.test.blind\n",
      "income.toy.txt\n",
      "income.train.txt.5k\n"
     ]
    }
   ],
   "source": [
    "!ls "
   ]
  },
  {
   "cell_type": "code",
   "execution_count": 2,
   "metadata": {},
   "outputs": [
    {
     "name": "stdout",
     "output_type": "stream",
     "text": [
      "   3749  <=50K\n",
      "   1251  >50K\n"
     ]
    }
   ],
   "source": [
    "!cat income.train.txt.5k | cut -f 10 -d ',' | sort | uniq -c"
   ]
  },
  {
   "cell_type": "code",
   "execution_count": 3,
   "metadata": {},
   "outputs": [
    {
     "data": {
      "text/plain": [
       "0.2502"
      ]
     },
     "execution_count": 3,
     "metadata": {},
     "output_type": "execute_result"
    }
   ],
   "source": [
    "1251 / (1251 + 3749)"
   ]
  },
  {
   "cell_type": "code",
   "execution_count": 4,
   "metadata": {
    "scrolled": true
   },
   "outputs": [
    {
     "name": "stdout",
     "output_type": "stream",
     "text": [
      "    764  <=50K\n",
      "    236  >50K\n"
     ]
    }
   ],
   "source": [
    "!cat income.dev.txt | cut -f 10 -d ',' | sort | uniq -c"
   ]
  },
  {
   "cell_type": "code",
   "execution_count": 5,
   "metadata": {},
   "outputs": [
    {
     "data": {
      "text/plain": [
       "0.236"
      ]
     },
     "execution_count": 5,
     "metadata": {},
     "output_type": "execute_result"
    }
   ],
   "source": [
    "236 / (236 + 764)"
   ]
  },
  {
   "cell_type": "code",
   "execution_count": 6,
   "metadata": {},
   "outputs": [
    {
     "name": "stdout",
     "output_type": "stream",
     "text": [
      "17\n"
     ]
    },
    {
     "name": "stderr",
     "output_type": "stream",
     "text": [
      "sort: fflush failed: 'standard output'\n",
      "sort: write error\n"
     ]
    }
   ],
   "source": [
    "!cat income.train.txt.5k | cut -f 1 -d ',' | sort -nk1| head -1"
   ]
  },
  {
   "cell_type": "code",
   "execution_count": 7,
   "metadata": {},
   "outputs": [
    {
     "name": "stdout",
     "output_type": "stream",
     "text": [
      "90\n"
     ]
    }
   ],
   "source": [
    "!cat income.train.txt.5k | cut -f 1 -d ',' | sort -nk1| tail -1"
   ]
  },
  {
   "cell_type": "code",
   "execution_count": 8,
   "metadata": {},
   "outputs": [
    {
     "name": "stdout",
     "output_type": "stream",
     "text": [
      " 1\n"
     ]
    },
    {
     "name": "stderr",
     "output_type": "stream",
     "text": [
      "sort: fflush failed: 'standard output'\n",
      "sort: write error\n"
     ]
    }
   ],
   "source": [
    "!cat income.train.txt.5k | cut -f 8 -d ',' | sort -nk1| head -1"
   ]
  },
  {
   "cell_type": "code",
   "execution_count": 9,
   "metadata": {},
   "outputs": [
    {
     "name": "stdout",
     "output_type": "stream",
     "text": [
      " 99\n"
     ]
    }
   ],
   "source": [
    "!cat income.train.txt.5k | cut -f 8 -d ',' | sort -nk1| tail -1"
   ]
  },
  {
   "cell_type": "code",
   "execution_count": 10,
   "metadata": {
    "scrolled": true
   },
   "outputs": [
    {
     "name": "stdout",
     "output_type": "stream",
     "text": [
      "7\n"
     ]
    }
   ],
   "source": [
    "!cat income.train.txt.5k | cut -f 2 -d ',' | sort | uniq | wc -l"
   ]
  },
  {
   "cell_type": "code",
   "execution_count": 11,
   "metadata": {},
   "outputs": [
    {
     "name": "stdout",
     "output_type": "stream",
     "text": [
      "16\n"
     ]
    }
   ],
   "source": [
    "!cat income.train.txt.5k | cut -f 3 -d ',' | sort | uniq | wc -l"
   ]
  },
  {
   "cell_type": "code",
   "execution_count": 12,
   "metadata": {},
   "outputs": [
    {
     "name": "stdout",
     "output_type": "stream",
     "text": [
      "7\n"
     ]
    }
   ],
   "source": [
    "!cat income.train.txt.5k | cut -f 4 -d ',' | sort | uniq | wc -l"
   ]
  },
  {
   "cell_type": "code",
   "execution_count": 13,
   "metadata": {},
   "outputs": [
    {
     "name": "stdout",
     "output_type": "stream",
     "text": [
      "14\n"
     ]
    }
   ],
   "source": [
    "!cat income.train.txt.5k | cut -f 5 -d ',' | sort | uniq | wc -l"
   ]
  },
  {
   "cell_type": "code",
   "execution_count": 14,
   "metadata": {},
   "outputs": [
    {
     "name": "stdout",
     "output_type": "stream",
     "text": [
      "5\n"
     ]
    }
   ],
   "source": [
    "!cat income.train.txt.5k | cut -f 6 -d ',' | sort | uniq | wc -l"
   ]
  },
  {
   "cell_type": "code",
   "execution_count": 15,
   "metadata": {},
   "outputs": [
    {
     "name": "stdout",
     "output_type": "stream",
     "text": [
      "2\n"
     ]
    }
   ],
   "source": [
    "!cat income.train.txt.5k | cut -f 7 -d ',' | sort | uniq | wc -l"
   ]
  },
  {
   "cell_type": "code",
   "execution_count": 16,
   "metadata": {},
   "outputs": [
    {
     "name": "stdout",
     "output_type": "stream",
     "text": [
      "39\n"
     ]
    }
   ],
   "source": [
    "!cat income.train.txt.5k | cut -f 9 -d ',' | sort | uniq | wc -l"
   ]
  },
  {
   "cell_type": "code",
   "execution_count": 17,
   "metadata": {},
   "outputs": [
    {
     "name": "stdout",
     "output_type": "stream",
     "text": [
      "67\n"
     ]
    }
   ],
   "source": [
    "!cat income.train.txt.5k | cut -f 1 -d ',' | sort | uniq | wc -l"
   ]
  },
  {
   "cell_type": "code",
   "execution_count": 18,
   "metadata": {},
   "outputs": [
    {
     "name": "stdout",
     "output_type": "stream",
     "text": [
      "73\n"
     ]
    }
   ],
   "source": [
    "!cat income.train.txt.5k | cut -f 8 -d ',' | sort | uniq | wc -l"
   ]
  },
  {
   "cell_type": "code",
   "execution_count": 19,
   "metadata": {},
   "outputs": [],
   "source": [
    "import numpy as np"
   ]
  },
  {
   "cell_type": "code",
   "execution_count": 20,
   "metadata": {},
   "outputs": [],
   "source": [
    "import time"
   ]
  },
  {
   "cell_type": "code",
   "execution_count": 21,
   "metadata": {},
   "outputs": [],
   "source": [
    "def binarization(file, mapping=None):\n",
    "    # Intialize data array from file\n",
    "    data = map(lambda s: s.strip().split(\", \"), open(file).readlines())\n",
    "    \n",
    "    # Initialize variables\n",
    "    if mapping is None:\n",
    "        mapping = {}\n",
    "    categorical_data = []\n",
    "    numerical_data = [[],[]]\n",
    "    target_data = []\n",
    "    min_v = [999, 999]\n",
    "    max_v = [-1, -1]\n",
    "    \n",
    "    # Map categorical features and save numerical fields\n",
    "    for row in data:\n",
    "        new_row = []\n",
    "        for j, x in enumerate(row):\n",
    "            if j == 0:\n",
    "                numerical_data[1].append(x)\n",
    "                if int(x) < min_v[1]:\n",
    "                    min_v[1] = int(x)\n",
    "                if int(x) > max_v[1]:\n",
    "                    max_v[1] = int(x)\n",
    "                continue\n",
    "            if j == 7: \n",
    "                numerical_data[0].append(x)\n",
    "                if int(x) < min_v[0]:\n",
    "                    min_v[0] = int(x)\n",
    "                if int(x) > max_v[0]:\n",
    "                    max_v[0] = int(x)\n",
    "                continue\n",
    "            if j == 9:\n",
    "                target_data.append(x)\n",
    "                continue\n",
    "            feature = (j, x)\n",
    "            if feature not in mapping:\n",
    "                mapping[feature] = len(mapping)\n",
    "            new_row.append(mapping[feature])\n",
    "        categorical_data.append(new_row)\n",
    "        \n",
    "    # Binarize categorical data\n",
    "    print(str(len(categorical_data)) + ', ' + str(len(mapping)) + ', ' + str(len(numerical_data)))\n",
    "          \n",
    "    binary_data = np.zeros((len(categorical_data), len(mapping) + len(numerical_data)))\n",
    "          \n",
    "    for i, row in enumerate(categorical_data):\n",
    "        for x in row:\n",
    "            binary_data[i][x] = 1\n",
    "            \n",
    "    # Add weighted numerical data to binary data\n",
    "    for i, nv in enumerate(numerical_data):\n",
    "        div = (max_v[i] - min_v[i]) / 2\n",
    "        for j, value in enumerate(nv):\n",
    "            binary_data[j][binary_data[0].size - 1 - i] = int(value) / div\n",
    "    \n",
    "    return [binary_data, mapping, target_data]\n",
    "    "
   ]
  },
  {
   "cell_type": "code",
   "execution_count": 22,
   "metadata": {},
   "outputs": [],
   "source": [
    "def euclidean(p1, p2):\n",
    "    return np.linalg.norm(p1-p2)"
   ]
  },
  {
   "cell_type": "code",
   "execution_count": 23,
   "metadata": {},
   "outputs": [],
   "source": [
    "def manhattan(p1, p2):\n",
    "    return np.sum(abs(p1 - p2))"
   ]
  },
  {
   "cell_type": "code",
   "execution_count": 24,
   "metadata": {},
   "outputs": [],
   "source": [
    "def k_NN(comp, arr, method, k):\n",
    "    nn = []\n",
    "    dist = []\n",
    "    \n",
    "    for j, data in enumerate(arr):\n",
    "        \n",
    "        # While nearest neighbor list does not have k elements\n",
    "        if len(nn) < k:\n",
    "            # If first element, add to nearest neighbor\n",
    "            if len(nn) == 0:\n",
    "                nn.append(j)\n",
    "                dist.append(method(comp, arr[j]))\n",
    "            \n",
    "            # Else insert in ascending order to nearest neighbors\n",
    "            else:\n",
    "                for n in range(len(nn)):\n",
    "                    if method(comp, arr[j]) < method(comp, arr[nn[n]]):\n",
    "                        nn.insert(n, j)\n",
    "                        dist.insert(n, method(comp, arr[j]))\n",
    "                        break\n",
    "                    elif n == len(nn) - 1:\n",
    "                        nn.append(j)\n",
    "                        dist.append(method(comp, arr[j]))\n",
    "                        \n",
    "        # Otherwise insert in ascending order and delete last element           \n",
    "        else:\n",
    "            for n in range(len(nn)):\n",
    "                if method(comp, arr[j]) < method(comp, arr[nn[n]]):\n",
    "                    nn.insert(n, j)\n",
    "                    dist.insert(n, method(comp, arr[j]))\n",
    "                    del nn[-1]\n",
    "                    del dist[-1]\n",
    "                    break\n",
    "                    \n",
    "    return [nn, dist]"
   ]
  },
  {
   "cell_type": "code",
   "execution_count": 25,
   "metadata": {},
   "outputs": [],
   "source": [
    "def k_NN_predict(comp, bin_arr, method, k):\n",
    "    \n",
    "    # Map target possibilities\n",
    "    mapping = {}\n",
    "    for j, x in enumerate(bin_arr[2]):\n",
    "            feature = x\n",
    "            if feature not in mapping:\n",
    "                mapping[feature] = len(mapping)\n",
    "    \n",
    "    # Generate count for map from neighbors\n",
    "    count = []\n",
    "    for feature in mapping:\n",
    "        count.append(0)\n",
    "    \n",
    "    nn_arr = k_NN(comp, bin_arr[0], method, k)\n",
    "    \n",
    "    for nn in nn_arr[0]:\n",
    "        count[mapping[bin_arr[2][nn]]] += 1\n",
    "    \n",
    "    # Return prediction based on majority\n",
    "    for feature in mapping:\n",
    "        if count.index(max(count)) == mapping[feature]:\n",
    "            return feature\n",
    "    \n",
    "    return"
   ]
  },
  {
   "cell_type": "code",
   "execution_count": 26,
   "metadata": {},
   "outputs": [
    {
     "name": "stdout",
     "output_type": "stream",
     "text": [
      "5000, 90, 2\n"
     ]
    }
   ],
   "source": [
    "train = binarization('income.train.txt.5k')"
   ]
  },
  {
   "cell_type": "code",
   "execution_count": 27,
   "metadata": {},
   "outputs": [
    {
     "name": "stdout",
     "output_type": "stream",
     "text": [
      "1000, 91, 2\n"
     ]
    }
   ],
   "source": [
    "dev = binarization('income.dev.txt', train[1])"
   ]
  },
  {
   "cell_type": "code",
   "execution_count": 28,
   "metadata": {},
   "outputs": [
    {
     "name": "stdout",
     "output_type": "stream",
     "text": [
      "5000, 91, 2\n"
     ]
    }
   ],
   "source": [
    "train = binarization('income.train.txt.5k', dev[1])"
   ]
  },
  {
   "cell_type": "code",
   "execution_count": 29,
   "metadata": {},
   "outputs": [
    {
     "data": {
      "text/plain": [
       "True"
      ]
     },
     "execution_count": 29,
     "metadata": {},
     "output_type": "execute_result"
    }
   ],
   "source": [
    "train[1] == dev[1]"
   ]
  },
  {
   "cell_type": "code",
   "execution_count": 30,
   "metadata": {},
   "outputs": [
    {
     "data": {
      "text/plain": [
       "91"
      ]
     },
     "execution_count": 30,
     "metadata": {},
     "output_type": "execute_result"
    }
   ],
   "source": [
    "len(dev[1])"
   ]
  },
  {
   "cell_type": "code",
   "execution_count": 31,
   "metadata": {},
   "outputs": [
    {
     "data": {
      "text/plain": [
       "91"
      ]
     },
     "execution_count": 31,
     "metadata": {},
     "output_type": "execute_result"
    }
   ],
   "source": [
    "len(train[1])"
   ]
  },
  {
   "cell_type": "code",
   "execution_count": 32,
   "metadata": {},
   "outputs": [
    {
     "data": {
      "text/plain": [
       "[[1010, 1713, 3769, 2003, 3698],\n",
       " [0.08262150731590351,\n",
       "  0.2193395913868282,\n",
       "  0.2737218598779718,\n",
       "  0.34672196259217397,\n",
       "  0.40068528287721883]]"
      ]
     },
     "execution_count": 32,
     "metadata": {},
     "output_type": "execute_result"
    }
   ],
   "source": [
    "k_NN(dev[0][-1], train[0], euclidean, 5)"
   ]
  },
  {
   "cell_type": "code",
   "execution_count": 33,
   "metadata": {},
   "outputs": [
    {
     "data": {
      "text/plain": [
       "[[1010, 1713, 3769, 3698, 2450],\n",
       " [0.09060751825090985,\n",
       "  0.22759381962077296,\n",
       "  0.2737218598779718,\n",
       "  0.427144788151103,\n",
       "  0.4741691620865267]]"
      ]
     },
     "execution_count": 33,
     "metadata": {},
     "output_type": "execute_result"
    }
   ],
   "source": [
    "k_NN(dev[0][-1], train[0], manhattan, 5)"
   ]
  },
  {
   "cell_type": "code",
   "execution_count": 34,
   "metadata": {},
   "outputs": [
    {
     "name": "stdout",
     "output_type": "stream",
     "text": [
      "58, Private, HS-grad, Widowed, Adm-clerical, White, Female, 40, United-States, <=50K\n"
     ]
    }
   ],
   "source": [
    "!tail -1  income.dev.txt "
   ]
  },
  {
   "cell_type": "code",
   "execution_count": 35,
   "metadata": {},
   "outputs": [
    {
     "name": "stdout",
     "output_type": "stream",
     "text": [
      "55, Private, HS-grad, Widowed, Adm-clerical, White, Female, 40, United-States, <=50K\n"
     ]
    }
   ],
   "source": [
    "!sed -n 1011p income.train.txt.5k"
   ]
  },
  {
   "cell_type": "code",
   "execution_count": 36,
   "metadata": {},
   "outputs": [
    {
     "name": "stdout",
     "output_type": "stream",
     "text": [
      "66, Private, HS-grad, Widowed, Adm-clerical, White, Female, 40, United-States, <=50K\n"
     ]
    }
   ],
   "source": [
    "!sed -n 1714p income.train.txt.5k"
   ]
  },
  {
   "cell_type": "code",
   "execution_count": 37,
   "metadata": {},
   "outputs": [
    {
     "name": "stdout",
     "output_type": "stream",
     "text": [
      "58, Private, HS-grad, Widowed, Adm-clerical, White, Female, 27, United-States, <=50K\n"
     ]
    }
   ],
   "source": [
    "!sed -n 3770p income.train.txt.5k"
   ]
  },
  {
   "cell_type": "code",
   "execution_count": 38,
   "metadata": {},
   "outputs": [
    {
     "name": "stdout",
     "output_type": "stream",
     "text": [
      "68, Private, HS-grad, Widowed, Adm-clerical, White, Female, 30, United-States, <=50K\n"
     ]
    }
   ],
   "source": [
    "!sed -n 2004p income.train.txt.5k"
   ]
  },
  {
   "cell_type": "code",
   "execution_count": 39,
   "metadata": {},
   "outputs": [
    {
     "name": "stdout",
     "output_type": "stream",
     "text": [
      "59, Private, HS-grad, Widowed, Adm-clerical, White, Female, 60, United-States, <=50K\n"
     ]
    }
   ],
   "source": [
    "!sed -n 3699p income.train.txt.5k"
   ]
  },
  {
   "cell_type": "code",
   "execution_count": 40,
   "metadata": {},
   "outputs": [
    {
     "name": "stdout",
     "output_type": "stream",
     "text": [
      "75, Private, HS-grad, Widowed, Adm-clerical, White, Female, 40, United-States, <=50K\n"
     ]
    }
   ],
   "source": [
    "!sed -n 2451p income.train.txt.5k"
   ]
  },
  {
   "cell_type": "code",
   "execution_count": 41,
   "metadata": {},
   "outputs": [
    {
     "data": {
      "text/plain": [
       "[[1010, 1713, 3769, 2003, 3698, 2450, 3680, 681, 2731],\n",
       " [0.08262150731590351,\n",
       "  0.2193395913868282,\n",
       "  0.2737218598779718,\n",
       "  0.34672196259217397,\n",
       "  0.40068528287721883,\n",
       "  0.465829450782897,\n",
       "  0.48408415077534417,\n",
       "  0.7671694487686503,\n",
       "  1.4142386024417781]]"
      ]
     },
     "execution_count": 41,
     "metadata": {},
     "output_type": "execute_result"
    }
   ],
   "source": [
    "k_NN(dev[0][-1], train[0], euclidean, 9)"
   ]
  },
  {
   "cell_type": "code",
   "execution_count": 42,
   "metadata": {},
   "outputs": [
    {
     "name": "stdout",
     "output_type": "stream",
     "text": [
      "75, Private, HS-grad, Widowed, Adm-clerical, White, Female, 40, United-States, <=50K\n"
     ]
    }
   ],
   "source": [
    "!sed -n 2451p income.train.txt.5k"
   ]
  },
  {
   "cell_type": "code",
   "execution_count": 43,
   "metadata": {},
   "outputs": [
    {
     "name": "stdout",
     "output_type": "stream",
     "text": [
      "49, Private, HS-grad, Widowed, Adm-clerical, White, Female, 20, United-States, <=50K\n"
     ]
    }
   ],
   "source": [
    "!sed -n 3681p income.train.txt.5k"
   ]
  },
  {
   "cell_type": "code",
   "execution_count": 44,
   "metadata": {},
   "outputs": [
    {
     "name": "stdout",
     "output_type": "stream",
     "text": [
      "30, Private, HS-grad, Widowed, Adm-clerical, White, Female, 40, United-States, <=50K\n"
     ]
    }
   ],
   "source": [
    "!sed -n 682p income.train.txt.5k"
   ]
  },
  {
   "cell_type": "code",
   "execution_count": 45,
   "metadata": {},
   "outputs": [
    {
     "name": "stdout",
     "output_type": "stream",
     "text": [
      "58, Private, HS-grad, Divorced, Adm-clerical, White, Female, 40, United-States, <=50K\n"
     ]
    }
   ],
   "source": [
    "!sed -n 2732p income.train.txt.5k"
   ]
  },
  {
   "cell_type": "code",
   "execution_count": 46,
   "metadata": {},
   "outputs": [
    {
     "data": {
      "text/plain": [
       "[[1010, 1713, 3769, 3698, 2450, 2003, 3680, 681, 2731],\n",
       " [0.09060751825090985,\n",
       "  0.22759381962077296,\n",
       "  0.2737218598779718,\n",
       "  0.427144788151103,\n",
       "  0.4741691620865267,\n",
       "  0.4864699728217794,\n",
       "  0.6631543452008679,\n",
       "  0.775539025100225,\n",
       "  2.008415737428992]]"
      ]
     },
     "execution_count": 46,
     "metadata": {},
     "output_type": "execute_result"
    }
   ],
   "source": [
    "k_NN(dev[0][-1], train[0], manhattan, 9)"
   ]
  },
  {
   "cell_type": "code",
   "execution_count": 47,
   "metadata": {},
   "outputs": [
    {
     "name": "stdout",
     "output_type": "stream",
     "text": [
      "68, Private, HS-grad, Widowed, Adm-clerical, White, Female, 30, United-States, <=50K\n"
     ]
    }
   ],
   "source": [
    "!sed -n 2004p income.train.txt.5k"
   ]
  },
  {
   "cell_type": "code",
   "execution_count": 48,
   "metadata": {},
   "outputs": [
    {
     "name": "stdout",
     "output_type": "stream",
     "text": [
      "49, Private, HS-grad, Widowed, Adm-clerical, White, Female, 20, United-States, <=50K\n"
     ]
    }
   ],
   "source": [
    "!sed -n 3681p income.train.txt.5k"
   ]
  },
  {
   "cell_type": "code",
   "execution_count": 49,
   "metadata": {},
   "outputs": [
    {
     "name": "stdout",
     "output_type": "stream",
     "text": [
      "30, Private, HS-grad, Widowed, Adm-clerical, White, Female, 40, United-States, <=50K\n"
     ]
    }
   ],
   "source": [
    "!sed -n 682p income.train.txt.5k"
   ]
  },
  {
   "cell_type": "code",
   "execution_count": 50,
   "metadata": {},
   "outputs": [
    {
     "name": "stdout",
     "output_type": "stream",
     "text": [
      "58, Private, HS-grad, Divorced, Adm-clerical, White, Female, 40, United-States, <=50K\n"
     ]
    }
   ],
   "source": [
    "!sed -n 2732p income.train.txt.5k"
   ]
  },
  {
   "cell_type": "code",
   "execution_count": 51,
   "metadata": {},
   "outputs": [
    {
     "data": {
      "text/plain": [
       "'<=50K'"
      ]
     },
     "execution_count": 51,
     "metadata": {},
     "output_type": "execute_result"
    }
   ],
   "source": [
    "k_NN_predict(dev[0][-1], train, euclidean, 5)"
   ]
  },
  {
   "cell_type": "code",
   "execution_count": 52,
   "metadata": {},
   "outputs": [],
   "source": [
    "def v_euclidean(arr, comp):\n",
    "    return np.linalg.norm(arr - comp, axis=1)"
   ]
  },
  {
   "cell_type": "code",
   "execution_count": 53,
   "metadata": {},
   "outputs": [],
   "source": [
    "def v_manhattan(arr,comp):\n",
    "    return np.sum(abs(arr - comp), axis=1)"
   ]
  },
  {
   "cell_type": "code",
   "execution_count": 54,
   "metadata": {},
   "outputs": [],
   "source": [
    "def v_k_NN(comp, arr, method, k):\n",
    "    m_arr = method(arr, comp)\n",
    "    nn_arr = np.argpartition(m_arr,k)[:k]\n",
    "    dist = []\n",
    "    \n",
    "    for nn in nn_arr:\n",
    "        dist.append(m_arr[nn])\n",
    "        \n",
    "    return [nn_arr, dist]"
   ]
  },
  {
   "cell_type": "code",
   "execution_count": 55,
   "metadata": {},
   "outputs": [],
   "source": [
    "def v_k_NN_predict(comp, bin_arr, method, k, tar_map):\n",
    "        \n",
    "    # Map target possibilities\n",
    "    mapping = tar_map\n",
    "    \n",
    "    \n",
    "    # Generate count for map from neighbors\n",
    "    count = []\n",
    "    for feature in mapping:\n",
    "        count.append(0)\n",
    "    \n",
    "    nn_arr = v_k_NN(comp, bin_arr[0], method, k)\n",
    "    \n",
    "    for nn in nn_arr[0]:\n",
    "        count[mapping[bin_arr[2][nn]]] += 1\n",
    "    \n",
    "    # Return prediction based on majority\n",
    "    for feature in mapping:\n",
    "        if count.index(max(count)) == mapping[feature]:\n",
    "            return [feature, mapping]"
   ]
  },
  {
   "cell_type": "code",
   "execution_count": 56,
   "metadata": {},
   "outputs": [
    {
     "data": {
      "text/plain": [
       "[array([1713, 1010, 3769, 2003, 3698], dtype=int64),\n",
       " [0.2193395913868282,\n",
       "  0.08262150731590351,\n",
       "  0.2737218598779718,\n",
       "  0.34672196259217397,\n",
       "  0.40068528287721883]]"
      ]
     },
     "execution_count": 56,
     "metadata": {},
     "output_type": "execute_result"
    }
   ],
   "source": [
    "v_k_NN(dev[0][-1], train[0], v_euclidean, 5)"
   ]
  },
  {
   "cell_type": "code",
   "execution_count": 57,
   "metadata": {},
   "outputs": [],
   "source": [
    "k_set = [1, 3, 5, 7, 9, 99, 999]"
   ]
  },
  {
   "cell_type": "code",
   "execution_count": 58,
   "metadata": {},
   "outputs": [],
   "source": [
    "def error_rate(k_set, method, test_set):\n",
    "    output = []\n",
    "    mapping = {}\n",
    "    \n",
    "    for j, x in enumerate(train[2]):\n",
    "            feature = x\n",
    "            if feature not in mapping:\n",
    "                mapping[feature] = len(mapping)\n",
    "                \n",
    "    for k in k_set:\n",
    "        print(k)\n",
    "        correct = 0\n",
    "        p_arr = None\n",
    "        for i, person in enumerate(test_set[0]):\n",
    "            p = v_k_NN_predict(person, train, method, k, mapping)\n",
    "            \n",
    "            # Build positive rate array\n",
    "            if p_arr is None:\n",
    "                p_arr = [p[1],[]]\n",
    "                for e in p[1]:\n",
    "                    p_arr[1].append(0)\n",
    "                    \n",
    "            # Update error and positive rate\n",
    "            if p[0] == test_set[2][i]:\n",
    "                correct += 1\n",
    "            \n",
    "            p_arr[1][p_arr[0][p[0]]] += 1\n",
    "            \n",
    "        print([correct , p_arr])\n",
    "        output.append([correct / len(test_set[0]), p_arr])\n",
    "        \n",
    "    return output"
   ]
  },
  {
   "cell_type": "code",
   "execution_count": 59,
   "metadata": {},
   "outputs": [],
   "source": [
    "s1 = time.time()"
   ]
  },
  {
   "cell_type": "code",
   "execution_count": 60,
   "metadata": {
    "scrolled": true
   },
   "outputs": [
    {
     "name": "stdout",
     "output_type": "stream",
     "text": [
      "1\n",
      "[759, [{'<=50K': 0, '>50K': 1}, [717, 283]]]\n",
      "3\n",
      "[804, [{'<=50K': 0, '>50K': 1}, [740, 260]]]\n",
      "5\n",
      "[822, [{'<=50K': 0, '>50K': 1}, [754, 246]]]\n",
      "7\n",
      "[834, [{'<=50K': 0, '>50K': 1}, [760, 240]]]\n",
      "9\n",
      "[842, [{'<=50K': 0, '>50K': 1}, [774, 226]]]\n",
      "99\n",
      "[843, [{'<=50K': 0, '>50K': 1}, [805, 195]]]\n",
      "999\n",
      "[822, [{'<=50K': 0, '>50K': 1}, [888, 112]]]\n"
     ]
    },
    {
     "data": {
      "text/plain": [
       "[[0.759, [{'<=50K': 0, '>50K': 1}, [717, 283]]],\n",
       " [0.804, [{'<=50K': 0, '>50K': 1}, [740, 260]]],\n",
       " [0.822, [{'<=50K': 0, '>50K': 1}, [754, 246]]],\n",
       " [0.834, [{'<=50K': 0, '>50K': 1}, [760, 240]]],\n",
       " [0.842, [{'<=50K': 0, '>50K': 1}, [774, 226]]],\n",
       " [0.843, [{'<=50K': 0, '>50K': 1}, [805, 195]]],\n",
       " [0.822, [{'<=50K': 0, '>50K': 1}, [888, 112]]]]"
      ]
     },
     "execution_count": 60,
     "metadata": {},
     "output_type": "execute_result"
    }
   ],
   "source": [
    "error_rate(k_set, v_euclidean, dev)"
   ]
  },
  {
   "cell_type": "code",
   "execution_count": 61,
   "metadata": {},
   "outputs": [],
   "source": [
    "e1 = time.time()"
   ]
  },
  {
   "cell_type": "code",
   "execution_count": 62,
   "metadata": {},
   "outputs": [
    {
     "data": {
      "text/plain": [
       "29.258525848388672"
      ]
     },
     "execution_count": 62,
     "metadata": {},
     "output_type": "execute_result"
    }
   ],
   "source": [
    "e1 - s1"
   ]
  },
  {
   "cell_type": "code",
   "execution_count": 63,
   "metadata": {},
   "outputs": [],
   "source": [
    "s2 = time.time()"
   ]
  },
  {
   "cell_type": "code",
   "execution_count": 64,
   "metadata": {},
   "outputs": [
    {
     "name": "stdout",
     "output_type": "stream",
     "text": [
      "1\n",
      "[4924, [{'<=50K': 0, '>50K': 1}, [3747, 1253]]]\n",
      "3\n",
      "[4433, [{'<=50K': 0, '>50K': 1}, [3808, 1192]]]\n",
      "5\n",
      "[4313, [{'<=50K': 0, '>50K': 1}, [3800, 1200]]]\n",
      "7\n",
      "[4276, [{'<=50K': 0, '>50K': 1}, [3807, 1193]]]\n",
      "9\n",
      "[4229, [{'<=50K': 0, '>50K': 1}, [3816, 1184]]]\n",
      "99\n",
      "[4107, [{'<=50K': 0, '>50K': 1}, [4018, 982]]]\n",
      "999\n",
      "[3989, [{'<=50K': 0, '>50K': 1}, [4452, 548]]]\n"
     ]
    },
    {
     "data": {
      "text/plain": [
       "[[0.9848, [{'<=50K': 0, '>50K': 1}, [3747, 1253]]],\n",
       " [0.8866, [{'<=50K': 0, '>50K': 1}, [3808, 1192]]],\n",
       " [0.8626, [{'<=50K': 0, '>50K': 1}, [3800, 1200]]],\n",
       " [0.8552, [{'<=50K': 0, '>50K': 1}, [3807, 1193]]],\n",
       " [0.8458, [{'<=50K': 0, '>50K': 1}, [3816, 1184]]],\n",
       " [0.8214, [{'<=50K': 0, '>50K': 1}, [4018, 982]]],\n",
       " [0.7978, [{'<=50K': 0, '>50K': 1}, [4452, 548]]]]"
      ]
     },
     "execution_count": 64,
     "metadata": {},
     "output_type": "execute_result"
    }
   ],
   "source": [
    "error_rate(k_set, v_euclidean, train)"
   ]
  },
  {
   "cell_type": "code",
   "execution_count": 65,
   "metadata": {},
   "outputs": [],
   "source": [
    "e2 = time.time()"
   ]
  },
  {
   "cell_type": "code",
   "execution_count": 66,
   "metadata": {},
   "outputs": [
    {
     "data": {
      "text/plain": [
       "150.72938299179077"
      ]
     },
     "execution_count": 66,
     "metadata": {},
     "output_type": "execute_result"
    }
   ],
   "source": [
    "e2 - s2"
   ]
  },
  {
   "cell_type": "code",
   "execution_count": 67,
   "metadata": {},
   "outputs": [],
   "source": [
    "s3 = time.time()"
   ]
  },
  {
   "cell_type": "code",
   "execution_count": 68,
   "metadata": {},
   "outputs": [
    {
     "name": "stdout",
     "output_type": "stream",
     "text": [
      "1\n",
      "[764, [{'<=50K': 0, '>50K': 1}, [726, 274]]]\n",
      "3\n",
      "[803, [{'<=50K': 0, '>50K': 1}, [745, 255]]]\n",
      "5\n",
      "[827, [{'<=50K': 0, '>50K': 1}, [751, 249]]]\n",
      "7\n",
      "[835, [{'<=50K': 0, '>50K': 1}, [761, 239]]]\n",
      "9\n",
      "[840, [{'<=50K': 0, '>50K': 1}, [776, 224]]]\n",
      "99\n",
      "[844, [{'<=50K': 0, '>50K': 1}, [808, 192]]]\n",
      "999\n",
      "[821, [{'<=50K': 0, '>50K': 1}, [891, 109]]]\n"
     ]
    },
    {
     "data": {
      "text/plain": [
       "[[0.764, [{'<=50K': 0, '>50K': 1}, [726, 274]]],\n",
       " [0.803, [{'<=50K': 0, '>50K': 1}, [745, 255]]],\n",
       " [0.827, [{'<=50K': 0, '>50K': 1}, [751, 249]]],\n",
       " [0.835, [{'<=50K': 0, '>50K': 1}, [761, 239]]],\n",
       " [0.84, [{'<=50K': 0, '>50K': 1}, [776, 224]]],\n",
       " [0.844, [{'<=50K': 0, '>50K': 1}, [808, 192]]],\n",
       " [0.821, [{'<=50K': 0, '>50K': 1}, [891, 109]]]]"
      ]
     },
     "execution_count": 68,
     "metadata": {},
     "output_type": "execute_result"
    }
   ],
   "source": [
    "error_rate(k_set, v_manhattan, dev)"
   ]
  },
  {
   "cell_type": "code",
   "execution_count": 69,
   "metadata": {},
   "outputs": [],
   "source": [
    "e3 = time.time()"
   ]
  },
  {
   "cell_type": "code",
   "execution_count": 70,
   "metadata": {},
   "outputs": [
    {
     "data": {
      "text/plain": [
       "31.321776628494263"
      ]
     },
     "execution_count": 70,
     "metadata": {},
     "output_type": "execute_result"
    }
   ],
   "source": [
    "e3 - s3"
   ]
  },
  {
   "cell_type": "code",
   "execution_count": 71,
   "metadata": {},
   "outputs": [],
   "source": [
    "s4 = time.time()"
   ]
  },
  {
   "cell_type": "code",
   "execution_count": 72,
   "metadata": {},
   "outputs": [
    {
     "name": "stdout",
     "output_type": "stream",
     "text": [
      "1\n",
      "[4924, [{'<=50K': 0, '>50K': 1}, [3747, 1253]]]\n",
      "3\n",
      "[4422, [{'<=50K': 0, '>50K': 1}, [3811, 1189]]]\n",
      "5\n",
      "[4298, [{'<=50K': 0, '>50K': 1}, [3805, 1195]]]\n",
      "7\n",
      "[4268, [{'<=50K': 0, '>50K': 1}, [3805, 1195]]]\n",
      "9\n",
      "[4228, [{'<=50K': 0, '>50K': 1}, [3817, 1183]]]\n",
      "99\n",
      "[4098, [{'<=50K': 0, '>50K': 1}, [4017, 983]]]\n",
      "999\n",
      "[3989, [{'<=50K': 0, '>50K': 1}, [4480, 520]]]\n"
     ]
    },
    {
     "data": {
      "text/plain": [
       "[[0.9848, [{'<=50K': 0, '>50K': 1}, [3747, 1253]]],\n",
       " [0.8844, [{'<=50K': 0, '>50K': 1}, [3811, 1189]]],\n",
       " [0.8596, [{'<=50K': 0, '>50K': 1}, [3805, 1195]]],\n",
       " [0.8536, [{'<=50K': 0, '>50K': 1}, [3805, 1195]]],\n",
       " [0.8456, [{'<=50K': 0, '>50K': 1}, [3817, 1183]]],\n",
       " [0.8196, [{'<=50K': 0, '>50K': 1}, [4017, 983]]],\n",
       " [0.7978, [{'<=50K': 0, '>50K': 1}, [4480, 520]]]]"
      ]
     },
     "execution_count": 72,
     "metadata": {},
     "output_type": "execute_result"
    }
   ],
   "source": [
    "error_rate(k_set, v_manhattan, train)"
   ]
  },
  {
   "cell_type": "code",
   "execution_count": 73,
   "metadata": {},
   "outputs": [],
   "source": [
    "e4 = time.time()"
   ]
  },
  {
   "cell_type": "code",
   "execution_count": 74,
   "metadata": {},
   "outputs": [
    {
     "data": {
      "text/plain": [
       "148.79366993904114"
      ]
     },
     "execution_count": 74,
     "metadata": {},
     "output_type": "execute_result"
    }
   ],
   "source": [
    "e4 - s4"
   ]
  },
  {
   "cell_type": "code",
   "execution_count": 75,
   "metadata": {},
   "outputs": [],
   "source": [
    "def binarize_all(file, mapping=None):\n",
    "    # Intialize data array from file\n",
    "    data = map(lambda s: s.strip().split(\", \"), open(file).readlines())\n",
    "    \n",
    "    # Initialize variables\n",
    "    if mapping is None:\n",
    "        mapping = {}\n",
    "    categorical_data = []\n",
    "    target_data = []\n",
    "    min_v = [999, 999]\n",
    "    max_v = [-1, -1]\n",
    "    \n",
    "    # Map categorical features and save numerical fields\n",
    "    for row in data:\n",
    "        new_row = []\n",
    "        for j, x in enumerate(row):\n",
    "            if j == 9:\n",
    "                target_data.append(x)\n",
    "                continue\n",
    "            feature = (j, x)\n",
    "            if feature not in mapping:\n",
    "                mapping[feature] = len(mapping)\n",
    "            new_row.append(mapping[feature])\n",
    "        categorical_data.append(new_row)\n",
    "        \n",
    "    # Binarize categorical data\n",
    "    print(str(len(categorical_data)) + ', ' + str(len(mapping)))\n",
    "          \n",
    "    binary_data = np.zeros((len(categorical_data), len(mapping)))\n",
    "          \n",
    "    for i, row in enumerate(categorical_data):\n",
    "        for x in row:\n",
    "            binary_data[i][x] = 1\n",
    "    \n",
    "    return [binary_data, mapping, target_data]"
   ]
  },
  {
   "cell_type": "code",
   "execution_count": 76,
   "metadata": {},
   "outputs": [],
   "source": [
    "def error_rate_all(k_set, method, test_set):\n",
    "    output = []\n",
    "    mapping = {}\n",
    "    \n",
    "    for j, x in enumerate(train[2]):\n",
    "            feature = x\n",
    "            if feature not in mapping:\n",
    "                mapping[feature] = len(mapping)\n",
    "                \n",
    "    for k in k_set:\n",
    "        print(k)\n",
    "        correct = 0\n",
    "        p_arr = None\n",
    "        for i, person in enumerate(test_set[0]):\n",
    "            p = v_k_NN_predict(person, train_all, method, k, mapping)\n",
    "            \n",
    "            # Build positive rate array\n",
    "            if p_arr is None:\n",
    "                p_arr = [p[1],[]]\n",
    "                for e in p[1]:\n",
    "                    p_arr[1].append(0)\n",
    "                    \n",
    "            # Update error and positive rate\n",
    "            if p[0] == test_set[2][i]:\n",
    "                correct += 1\n",
    "            \n",
    "            p_arr[1][p_arr[0][p[0]]] += 1\n",
    "            \n",
    "        print([correct , p_arr])\n",
    "        output.append([correct / len(test_set[0]), p_arr])\n",
    "        \n",
    "    return output"
   ]
  },
  {
   "cell_type": "code",
   "execution_count": 77,
   "metadata": {},
   "outputs": [
    {
     "name": "stdout",
     "output_type": "stream",
     "text": [
      "5000, 230\n"
     ]
    }
   ],
   "source": [
    "train_all = binarize_all('income.train.txt.5k')"
   ]
  },
  {
   "cell_type": "code",
   "execution_count": 78,
   "metadata": {},
   "outputs": [
    {
     "name": "stdout",
     "output_type": "stream",
     "text": [
      "1000, 233\n"
     ]
    }
   ],
   "source": [
    "dev_all = binarize_all('income.dev.txt', train_all[1])"
   ]
  },
  {
   "cell_type": "code",
   "execution_count": 79,
   "metadata": {},
   "outputs": [
    {
     "name": "stdout",
     "output_type": "stream",
     "text": [
      "5000, 233\n"
     ]
    }
   ],
   "source": [
    "train_all = binarize_all('income.train.txt.5k', dev_all[1])"
   ]
  },
  {
   "cell_type": "code",
   "execution_count": 80,
   "metadata": {},
   "outputs": [],
   "source": [
    "s5 = time.time()"
   ]
  },
  {
   "cell_type": "code",
   "execution_count": 81,
   "metadata": {},
   "outputs": [
    {
     "name": "stdout",
     "output_type": "stream",
     "text": [
      "1\n",
      "[768, [{'<=50K': 0, '>50K': 1}, [752, 248]]]\n",
      "3\n",
      "[811, [{'<=50K': 0, '>50K': 1}, [775, 225]]]\n",
      "5\n",
      "[819, [{'<=50K': 0, '>50K': 1}, [787, 213]]]\n",
      "7\n",
      "[823, [{'<=50K': 0, '>50K': 1}, [795, 205]]]\n",
      "9\n",
      "[825, [{'<=50K': 0, '>50K': 1}, [799, 201]]]\n",
      "99\n",
      "[843, [{'<=50K': 0, '>50K': 1}, [835, 165]]]\n",
      "999\n",
      "[800, [{'<=50K': 0, '>50K': 1}, [948, 52]]]\n"
     ]
    },
    {
     "data": {
      "text/plain": [
       "[[0.768, [{'<=50K': 0, '>50K': 1}, [752, 248]]],\n",
       " [0.811, [{'<=50K': 0, '>50K': 1}, [775, 225]]],\n",
       " [0.819, [{'<=50K': 0, '>50K': 1}, [787, 213]]],\n",
       " [0.823, [{'<=50K': 0, '>50K': 1}, [795, 205]]],\n",
       " [0.825, [{'<=50K': 0, '>50K': 1}, [799, 201]]],\n",
       " [0.843, [{'<=50K': 0, '>50K': 1}, [835, 165]]],\n",
       " [0.8, [{'<=50K': 0, '>50K': 1}, [948, 52]]]]"
      ]
     },
     "execution_count": 81,
     "metadata": {},
     "output_type": "execute_result"
    }
   ],
   "source": [
    "error_rate_all(k_set, v_euclidean, dev_all)"
   ]
  },
  {
   "cell_type": "code",
   "execution_count": 82,
   "metadata": {},
   "outputs": [],
   "source": [
    "e5 = time.time()"
   ]
  },
  {
   "cell_type": "code",
   "execution_count": 83,
   "metadata": {},
   "outputs": [
    {
     "data": {
      "text/plain": [
       "72.25272560119629"
      ]
     },
     "execution_count": 83,
     "metadata": {},
     "output_type": "execute_result"
    }
   ],
   "source": [
    "e5 - s5"
   ]
  },
  {
   "cell_type": "code",
   "execution_count": 84,
   "metadata": {},
   "outputs": [],
   "source": [
    "s6 = time.time()"
   ]
  },
  {
   "cell_type": "code",
   "execution_count": 85,
   "metadata": {},
   "outputs": [
    {
     "name": "stdout",
     "output_type": "stream",
     "text": [
      "1\n",
      "[4924, [{'<=50K': 0, '>50K': 1}, [3747, 1253]]]\n",
      "3\n",
      "[4408, [{'<=50K': 0, '>50K': 1}, [3833, 1167]]]\n",
      "5\n",
      "[4271, [{'<=50K': 0, '>50K': 1}, [3888, 1112]]]\n",
      "7\n",
      "[4242, [{'<=50K': 0, '>50K': 1}, [3921, 1079]]]\n",
      "9\n",
      "[4202, [{'<=50K': 0, '>50K': 1}, [3943, 1057]]]\n",
      "99\n",
      "[4090, [{'<=50K': 0, '>50K': 1}, [4143, 857]]]\n",
      "999\n",
      "[3891, [{'<=50K': 0, '>50K': 1}, [4758, 242]]]\n"
     ]
    },
    {
     "data": {
      "text/plain": [
       "[[0.9848, [{'<=50K': 0, '>50K': 1}, [3747, 1253]]],\n",
       " [0.8816, [{'<=50K': 0, '>50K': 1}, [3833, 1167]]],\n",
       " [0.8542, [{'<=50K': 0, '>50K': 1}, [3888, 1112]]],\n",
       " [0.8484, [{'<=50K': 0, '>50K': 1}, [3921, 1079]]],\n",
       " [0.8404, [{'<=50K': 0, '>50K': 1}, [3943, 1057]]],\n",
       " [0.818, [{'<=50K': 0, '>50K': 1}, [4143, 857]]],\n",
       " [0.7782, [{'<=50K': 0, '>50K': 1}, [4758, 242]]]]"
      ]
     },
     "execution_count": 85,
     "metadata": {},
     "output_type": "execute_result"
    }
   ],
   "source": [
    "error_rate_all(k_set, v_euclidean, train_all)"
   ]
  },
  {
   "cell_type": "code",
   "execution_count": 86,
   "metadata": {},
   "outputs": [],
   "source": [
    "e6 = time.time()"
   ]
  },
  {
   "cell_type": "code",
   "execution_count": 87,
   "metadata": {},
   "outputs": [
    {
     "data": {
      "text/plain": [
       "364.7721281051636"
      ]
     },
     "execution_count": 87,
     "metadata": {},
     "output_type": "execute_result"
    }
   ],
   "source": [
    "e6 - s6"
   ]
  },
  {
   "cell_type": "code",
   "execution_count": 88,
   "metadata": {},
   "outputs": [
    {
     "name": "stdout",
     "output_type": "stream",
     "text": [
      "1000, 91, 2\n"
     ]
    }
   ],
   "source": [
    "test = binarization('income.test.blind', train[1])"
   ]
  },
  {
   "cell_type": "code",
   "execution_count": 89,
   "metadata": {},
   "outputs": [],
   "source": [
    "def mass_predict(k_set, method, test_set):\n",
    "    output = []\n",
    "    \n",
    "    mapping = {}\n",
    "    \n",
    "    for j, x in enumerate(train[2]):\n",
    "            feature = x\n",
    "            if feature not in mapping:\n",
    "                mapping[feature] = len(mapping)\n",
    "    \n",
    "    for k in k_set:\n",
    "        print(k)\n",
    "        p_arr = None\n",
    "        predictions = []\n",
    "        for i, person in enumerate(test_set[0]):\n",
    "            p = v_k_NN_predict(person, train, method, k, mapping)\n",
    "            predictions.append(p)\n",
    "            \n",
    "            # Build positive rate array\n",
    "            if p_arr is None:\n",
    "                p_arr = [p[1],[]]\n",
    "                for e in p[1]:\n",
    "                    p_arr[1].append(0)\n",
    "\n",
    "            # Update postive rate\n",
    "            p_arr[1][p_arr[0][p[0]]] += 1\n",
    "            \n",
    "        print([p_arr])\n",
    "        output.append(p_arr)\n",
    "        output.append(predictions)\n",
    "        \n",
    "    return output"
   ]
  },
  {
   "cell_type": "code",
   "execution_count": 112,
   "metadata": {},
   "outputs": [],
   "source": [
    "s7 = time.time()"
   ]
  },
  {
   "cell_type": "code",
   "execution_count": 113,
   "metadata": {},
   "outputs": [
    {
     "name": "stdout",
     "output_type": "stream",
     "text": [
      "99\n",
      "[[{'<=50K': 0, '>50K': 1}, [806, 194]]]\n"
     ]
    }
   ],
   "source": [
    "blind = mass_predict([99], v_manhattan, test)"
   ]
  },
  {
   "cell_type": "code",
   "execution_count": 114,
   "metadata": {},
   "outputs": [],
   "source": [
    "e7 = time.time()"
   ]
  },
  {
   "cell_type": "code",
   "execution_count": 115,
   "metadata": {},
   "outputs": [
    {
     "data": {
      "text/plain": [
       "4.1429736614227295"
      ]
     },
     "execution_count": 115,
     "metadata": {},
     "output_type": "execute_result"
    }
   ],
   "source": [
    "e7 - s7"
   ]
  },
  {
   "cell_type": "code",
   "execution_count": 116,
   "metadata": {},
   "outputs": [],
   "source": [
    "with open('income.test.predicted', 'w') as out:\n",
    "    for i, line in enumerate(open('income.test.blind').readlines()):\n",
    "        out.write(line[:-2] + ', ' + blind[1][i][0] + '\\n')"
   ]
  },
  {
   "cell_type": "code",
   "execution_count": null,
   "metadata": {},
   "outputs": [],
   "source": []
  }
 ],
 "metadata": {
  "kernelspec": {
   "display_name": "Python 3",
   "language": "python",
   "name": "python3"
  },
  "language_info": {
   "codemirror_mode": {
    "name": "ipython",
    "version": 3
   },
   "file_extension": ".py",
   "mimetype": "text/x-python",
   "name": "python",
   "nbconvert_exporter": "python",
   "pygments_lexer": "ipython3",
   "version": "3.9.0"
  }
 },
 "nbformat": 4,
 "nbformat_minor": 4
}
